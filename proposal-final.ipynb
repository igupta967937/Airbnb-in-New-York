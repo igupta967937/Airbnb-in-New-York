{
 "cells": [
  {
   "cell_type": "markdown",
   "metadata": {},
   "source": [
    "<h1><center><font size=\"5\">Data1030_Project_Proposal</font></center></h1>\n",
    "<h1><center><font size=\"4\">Yuyang Li</font></center></h1>"
   ]
  },
  {
   "cell_type": "markdown",
   "metadata": {},
   "source": [
    "<h1><center><font size=\"4\">Airbnb in New York</font></center></h1>"
   ]
  },
  {
   "cell_type": "markdown",
   "metadata": {},
   "source": [
    "<font size=\"4\">1. Project Task</font>"
   ]
  },
  {
   "cell_type": "markdown",
   "metadata": {},
   "source": [
    "The goal of this project is to build machine learning models to predict the prices of Airbnb in New York, given the datasets from Kaggle. See https://www.kaggle.com/dgomonov/new-york-city-airbnb-open-data/downloads/new-york-city-airbnb-open-data.zip/3#AB_NYC_2019.csv. The target variable is the prices of Airbnb in New York and the problem is regression. It is pretty interesting because nowadays more people use airbnb to expand on traveling possibilities. Staying in airbnb gives people more personalized experiences."
   ]
  },
  {
   "cell_type": "markdown",
   "metadata": {},
   "source": [
    "Reference: https://github.com/mikelyy/Airbnb-in-New-York"
   ]
  },
  {
   "cell_type": "markdown",
   "metadata": {},
   "source": [
    "<center>\n",
    "    <div class=\"row\">\n",
    "    <img src=\"airbnb-newyork.png\" style=\"height: 250px;\">\n",
    "    </div>\n",
    "</center>"
   ]
  },
  {
   "cell_type": "markdown",
   "metadata": {},
   "source": [
    "<font size=\"4\">2. Related Work</font> "
   ]
  },
  {
   "cell_type": "markdown",
   "metadata": {},
   "source": [
    "From Kaggle Kernels, I have gone through some of projects completed by other people. In Dgomonov's \"Data Exploration on NYC Airbnb\", he uses the data for security, business decisions and guiding marketing initiatives, etc. Features such as id, host_name and last_review are dropped since these features are not significant for future predictions. I get some ideas of how to implement exploratory data analysis and feature engineering for the dataset. In Andrew W's \"Smart Pricing with XGB, RFR + Interpretations\", he uses the data to build and train a smart pricing model. The target variable is price. The price is initially transformed through log-transformation. I learn some feasible regression models."
   ]
  },
  {
   "cell_type": "markdown",
   "metadata": {},
   "source": [
    "<font size=\"4\">3. Dataset and Metric</font> "
   ]
  },
  {
   "cell_type": "markdown",
   "metadata": {},
   "source": [
    "The dataset and a map of New York city are provided by Kaggle. Originally, there are in total 15 features and 48895 rows in the dataset 'AB_NYC_2019.csv'."
   ]
  },
  {
   "cell_type": "markdown",
   "metadata": {},
   "source": [
    "After reviewing all the features, I decide to drop the features 'last_review' and 'calculated_host_listings_count', because I think the date of latest review and total amount of listing per host do not really have any effects on the prices of airbnb while people are booking. And I also decide to drop the features 'id', 'host_id', 'name' and 'host_name', because these features do not affect people whether they book this airbnb or not. What's more, I decide to drop features 'latitude' and 'longitude' as well, because people will not care about the specific location points of the airbnbs they are booking. Instead, features such as neighbourhood and neighbourhood_group provide enough geographical information. Therefore, I have 7 features in total."
   ]
  },
  {
   "cell_type": "markdown",
   "metadata": {},
   "source": [
    "Overall, the dataset is pretty well-documented. The following is a detailed description of each variable after I drop some irrelevant features."
   ]
  },
  {
   "cell_type": "markdown",
   "metadata": {},
   "source": [
    "<center>\n",
    "    <div class=\"row\">\n",
    "    <img src=\"Data Description.png\" style=\"height: 250px;\">\n",
    "    </div>\n",
    "</center>"
   ]
  },
  {
   "cell_type": "markdown",
   "metadata": {},
   "source": [
    "<font size=\"4\">4. Data Preprocessing</font> "
   ]
  },
  {
   "cell_type": "markdown",
   "metadata": {},
   "source": [
    "I choose to drop all the missing values for now. However, I will use some 'dropping missing value' methods to deal with the missing values later. And here I drop the features 'last_review', 'id', 'host_id', 'name', 'host_name', 'calculated_host_listings_count', 'latitude' and 'longitude'."
   ]
  },
  {
   "cell_type": "markdown",
   "metadata": {},
   "source": [
    "<center>\n",
    "    <div class=\"row\">\n",
    "    <img src=\"initial-dataset.png\" style=\"height: 150px;\">\n",
    "    </div>\n",
    "</center>"
   ]
  },
  {
   "cell_type": "markdown",
   "metadata": {},
   "source": [
    "For features neighbourhood_group, neighbourhood and room_type, I will apply OneHotEncoder because these three features are categorical and they could not be ordered. "
   ]
  },
  {
   "cell_type": "markdown",
   "metadata": {},
   "source": [
    "For feature minimum_nights, it is easy to notice that there are some extreme values. Therefore I decide to use StandardScaler as it is numerical."
   ]
  },
  {
   "cell_type": "markdown",
   "metadata": {},
   "source": [
    "For feature number_of_reviews, I think it is needed to plot the histogram."
   ]
  },
  {
   "cell_type": "markdown",
   "metadata": {},
   "source": [
    "<center>\n",
    "    <div class=\"row\">\n",
    "    <img src=\"number_of_reviews.png\" style=\"height: 250px;\">\n",
    "    </div>\n",
    "</center>"
   ]
  },
  {
   "cell_type": "markdown",
   "metadata": {},
   "source": [
    "From the above histogram, I decide to use StandardScaler for the feature number_of_reviews."
   ]
  },
  {
   "cell_type": "markdown",
   "metadata": {},
   "source": [
    "For the feature reviews_per_month, I think it is needed to plot the histogram."
   ]
  },
  {
   "cell_type": "markdown",
   "metadata": {},
   "source": [
    "<center>\n",
    "    <div class=\"row\">\n",
    "    <img src=\"reviews_per_month.png\" style=\"height: 250px;\">\n",
    "    </div>\n",
    "</center>"
   ]
  },
  {
   "cell_type": "markdown",
   "metadata": {},
   "source": [
    "From the above histogram, I decide to use StandardScaler for the feature reviews_per_month."
   ]
  },
  {
   "cell_type": "markdown",
   "metadata": {},
   "source": [
    "For the feature availability_365, I think it is needed to plot the histogram."
   ]
  },
  {
   "cell_type": "markdown",
   "metadata": {},
   "source": [
    "<center>\n",
    "    <div class=\"row\">\n",
    "    <img src=\"availability_365.png\" style=\"height: 250px;\">\n",
    "    </div>\n",
    "</center>"
   ]
  },
  {
   "cell_type": "markdown",
   "metadata": {},
   "source": [
    "From the above histogram, I decide to use StandardScaler for the feature availability_365."
   ]
  },
  {
   "cell_type": "markdown",
   "metadata": {},
   "source": [
    "For the target variable price, I decide to use it directly without any preprocessing, since it is continuous variable."
   ]
  },
  {
   "cell_type": "markdown",
   "metadata": {},
   "source": [
    "The final result for preprocessed-dataset is shown as follows"
   ]
  },
  {
   "cell_type": "markdown",
   "metadata": {},
   "source": [
    "<center>\n",
    "    <div class=\"row\">\n",
    "    <img src=\"preprocessed-dataset.png\" style=\"height: 150px;\">\n",
    "    </div>\n",
    "</center>"
   ]
  },
  {
   "cell_type": "markdown",
   "metadata": {},
   "source": [
    "There are in total 7 features with 231 columns."
   ]
  },
  {
   "cell_type": "code",
   "execution_count": null,
   "metadata": {},
   "outputs": [],
   "source": []
  }
 ],
 "metadata": {
  "kernelspec": {
   "display_name": "Python 3",
   "language": "python",
   "name": "python3"
  },
  "language_info": {
   "codemirror_mode": {
    "name": "ipython",
    "version": 3
   },
   "file_extension": ".py",
   "mimetype": "text/x-python",
   "name": "python",
   "nbconvert_exporter": "python",
   "pygments_lexer": "ipython3",
   "version": "3.7.3"
  }
 },
 "nbformat": 4,
 "nbformat_minor": 4
}
