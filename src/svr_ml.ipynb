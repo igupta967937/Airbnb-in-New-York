{
 "cells": [
  {
   "cell_type": "code",
   "execution_count": 1,
   "metadata": {},
   "outputs": [],
   "source": [
    "import pandas as pd \n",
    "import numpy as np \n",
    "from scipy.stats import norm\n",
    "from scipy import stats\n",
    "from sklearn.model_selection import KFold \n",
    "from sklearn.model_selection import train_test_split \n",
    "from sklearn.model_selection import StratifiedKFold \n",
    "from sklearn.metrics import r2_score\n",
    "from sklearn.metrics import mean_squared_error\n",
    "import matplotlib.pylab as plt\n",
    "from sklearn.svm import SVR\n",
    "import warnings\n",
    "warnings.filterwarnings('ignore')"
   ]
  },
  {
   "cell_type": "code",
   "execution_count": 2,
   "metadata": {},
   "outputs": [],
   "source": [
    "df = pd.read_csv('../data/preprocessed_data.csv')\n",
    "df = df.astype(float)\n",
    "df.dropna(inplace=True) \n",
    "df.reset_index(drop=True, inplace=True)\n",
    "label = 'price'\n",
    "y = df[label]\n",
    "X = df.drop(columns=[label])"
   ]
  },
  {
   "cell_type": "code",
   "execution_count": 9,
   "metadata": {},
   "outputs": [],
   "source": [
    "def ML_pipeline_kfold(X, y, random_state, n_folds): \n",
    "    \n",
    "    X_other, X_test, y_other, y_test = train_test_split(X, y, test_size=0.2, random_state = random_state) \n",
    "    kf = StratifiedKFold(n_splits=n_folds, shuffle=True, random_state=random_state) \n",
    "    \n",
    "    CV_scores = []\n",
    "    r2score=[]\n",
    "    best_parameters = [] \n",
    "\n",
    "    for train_index, CV_index in kf.split(X_other, y_other): \n",
    "        \n",
    "        X_train, X_CV = X_other.iloc[train_index.tolist()], X_other.iloc[CV_index.tolist()] \n",
    "        y_train, y_CV = y_other.iloc[train_index.tolist()], y_other.iloc[CV_index.tolist()] \n",
    "\n",
    "        parameters = [(i, j) for i in [1e-3, 1e-2, 1e-1] for j in [20, 40, 60]] \n",
    "        \n",
    "        regs = []\n",
    "        CV_score = []\n",
    "        train_score = []\n",
    "\n",
    "        for i, j in parameters: \n",
    "            reg = SVR(gamma=i, C=j, kernel='rbf')\n",
    "            reg.fit(X_train, y_train) \n",
    "        \n",
    "            train_score.append(mean_squared_error(y_train,reg.predict(X_train)))\n",
    "            CV_score.append(mean_squared_error(y_CV,reg.predict(X_CV)))\n",
    "            regs.append(reg)\n",
    "        \n",
    "        best_i = parameters[np.argmin(CV_score)][0] \n",
    "        best_j = parameters[np.argmin(CV_score)][1]\n",
    "        best_parameters.append((best_i, best_j)) \n",
    "        \n",
    "        reg = regs[np.argmin(CV_score)]\n",
    "        CV_scores.append(np.min(CV_score))\n",
    "        \n",
    "        r2score.append(reg.score(X_test,y_test))\n",
    "        \n",
    "        best_para = best_parameters[np.argmax(r2score)] \n",
    "        \n",
    "    return best_para, min(CV_score), max(r2score), reg, X_test, y_test"
   ]
  },
  {
   "cell_type": "code",
   "execution_count": 10,
   "metadata": {},
   "outputs": [
    {
     "name": "stdout",
     "output_type": "stream",
     "text": [
      "random state = 23. Best gamma is 0.1 & best C is 60. r2_score is 0.23325584679760092\n",
      "random state = 46. Best gamma is 0.01 & best C is 60. r2_score is 0.025355414277116628\n",
      "random state = 69. Best gamma is 0.1 & best C is 60. r2_score is 0.12812245974602054\n",
      "random state = 92. Best gamma is 0.1 & best C is 60. r2_score is 0.03544061521102737\n",
      "random state = 115. Best gamma is 0.1 & best C is 60. r2_score is 0.2534213233970548\n",
      "random state = 138. Best gamma is 0.1 & best C is 60. r2_score is 0.23709414637607207\n",
      "random state = 161. Best gamma is 0.1 & best C is 60. r2_score is 0.2616189796544022\n",
      "random state = 184. Best gamma is 0.1 & best C is 60. r2_score is 0.2091404467804251\n",
      "random state = 207. Best gamma is 0.1 & best C is 60. r2_score is 0.019958931985271433\n",
      "random state = 230. Best gamma is 0.1 & best C is 60. r2_score is 0.24418454355811922\n",
      "average: 0.165\n",
      "std: 0.097\n",
      "test accuracy score: 0.165 +/- 0.097\n"
     ]
    }
   ],
   "source": [
    "test_scores_list = [] \n",
    "for i in range(10): \n",
    "    random_state = 23*(i+1)\n",
    "    best_para, CV_score, r2_score, model, X_test_res, y_test_res = ML_pipeline_kfold_random_forest(X, y, random_state, 5) \n",
    "    test_scores_list.append(r2_score) \n",
    "    print('random state = {}. Best gamma is {} & best C is {}. r2_score is {}'.format(random_state, best_para[0], best_para[1], test_scores_list[-1])) \n",
    "average_list = np.mean(test_scores_list) \n",
    "std_list = np.std(test_scores_list)\n",
    "print('average:', np.around(average_list,3))\n",
    "print('std:', np.around(std_list,3))\n",
    "print('test accuracy score:', np.around(average_list,3), '+/-', np.around(std_list,3))"
   ]
  },
  {
   "cell_type": "code",
   "execution_count": null,
   "metadata": {},
   "outputs": [],
   "source": []
  },
  {
   "cell_type": "code",
   "execution_count": 12,
   "metadata": {},
   "outputs": [],
   "source": []
  },
  {
   "cell_type": "code",
   "execution_count": null,
   "metadata": {},
   "outputs": [],
   "source": []
  },
  {
   "cell_type": "code",
   "execution_count": null,
   "metadata": {},
   "outputs": [],
   "source": []
  },
  {
   "cell_type": "code",
   "execution_count": null,
   "metadata": {},
   "outputs": [],
   "source": []
  }
 ],
 "metadata": {
  "kernelspec": {
   "display_name": "Python 3",
   "language": "python",
   "name": "python3"
  },
  "language_info": {
   "codemirror_mode": {
    "name": "ipython",
    "version": 3
   },
   "file_extension": ".py",
   "mimetype": "text/x-python",
   "name": "python",
   "nbconvert_exporter": "python",
   "pygments_lexer": "ipython3",
   "version": "3.7.3"
  }
 },
 "nbformat": 4,
 "nbformat_minor": 4
}
