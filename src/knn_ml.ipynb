{
 "cells": [
  {
   "cell_type": "code",
   "execution_count": 6,
   "metadata": {},
   "outputs": [],
   "source": [
    "import pandas as pd \n",
    "import numpy as np \n",
    "from scipy.stats import norm\n",
    "from scipy import stats\n",
    "from sklearn.model_selection import KFold \n",
    "from sklearn.model_selection import train_test_split \n",
    "from sklearn.model_selection import StratifiedKFold \n",
    "from sklearn.metrics import r2_score\n",
    "from sklearn.metrics import mean_squared_error\n",
    "from sklearn.neighbors import KNeighborsRegressor\n",
    "import matplotlib.pylab as plt\n",
    "import warnings\n",
    "warnings.filterwarnings('ignore')"
   ]
  },
  {
   "cell_type": "code",
   "execution_count": 7,
   "metadata": {},
   "outputs": [],
   "source": [
    "df = pd.read_csv('../data/preprocessed_data.csv')\n",
    "df = df.astype(float)\n",
    "df.dropna(inplace=True) \n",
    "df.reset_index(drop=True, inplace=True)\n",
    "label = 'price'\n",
    "y = df[label]\n",
    "X = df.drop(columns=[label])"
   ]
  },
  {
   "cell_type": "code",
   "execution_count": 8,
   "metadata": {},
   "outputs": [],
   "source": [
    "def ML_pipeline_kfold(X, y, random_state, n_folds): \n",
    "    \n",
    "    X_other, X_test, y_other, y_test = train_test_split(X, y, test_size=0.2, random_state = random_state) \n",
    "    kf = StratifiedKFold(n_splits=n_folds, shuffle=True, random_state=random_state) \n",
    "    \n",
    "    CV_scores = []\n",
    "    r2score=[]\n",
    "    best_parameters = [] \n",
    "\n",
    "    for train_index, CV_index in kf.split(X_other, y_other): \n",
    "        \n",
    "        X_train, X_CV = X_other.iloc[train_index.tolist()], X_other.iloc[CV_index.tolist()] \n",
    "        y_train, y_CV = y_other.iloc[train_index.tolist()], y_other.iloc[CV_index.tolist()] \n",
    "\n",
    "        parameters = [20,40,60,80,100]\n",
    "        \n",
    "        regs = []\n",
    "        CV_score = []\n",
    "        train_score = []\n",
    "\n",
    "        for i in parameters: \n",
    "            reg = KNeighborsRegressor(n_neighbors=i)\n",
    "            reg.fit(X_train, y_train) \n",
    "        \n",
    "            train_score.append(mean_squared_error(y_train,reg.predict(X_train)))\n",
    "            CV_score.append(mean_squared_error(y_CV,reg.predict(X_CV)))\n",
    "            regs.append(reg)\n",
    "            \n",
    "        \n",
    "        best_i = parameters[np.argmin(CV_score)] \n",
    "        best_parameters.append(best_i) \n",
    "        \n",
    "        reg = regs[np.argmin(CV_score)]\n",
    "        CV_scores.append(np.min(CV_score))\n",
    "\n",
    "        r2score.append(reg.score(X_test,y_test))\n",
    "                           \n",
    "        best_para = best_parameters[np.argmax(r2score)] \n",
    "\n",
    "    return best_para, min(CV_score), max(r2score), reg"
   ]
  },
  {
   "cell_type": "code",
   "execution_count": 9,
   "metadata": {},
   "outputs": [
    {
     "name": "stdout",
     "output_type": "stream",
     "text": [
      "random state = 23. Best n_neighbors is 60. r2_score is 0.15534289346624985\n",
      "random state = 46. Best n_neighbors is 60. r2_score is 0.05363508838527231\n",
      "random state = 69. Best n_neighbors is 20. r2_score is 0.11343237229403658\n",
      "random state = 92. Best n_neighbors is 40. r2_score is 0.05528505385927307\n",
      "random state = 115. Best n_neighbors is 60. r2_score is 0.15898092010741538\n",
      "random state = 138. Best n_neighbors is 20. r2_score is 0.22909747208198727\n",
      "random state = 161. Best n_neighbors is 40. r2_score is 0.2342407442519354\n",
      "random state = 184. Best n_neighbors is 40. r2_score is 0.14685129010282372\n",
      "random state = 207. Best n_neighbors is 20. r2_score is 0.03420942503841706\n",
      "random state = 230. Best n_neighbors is 40. r2_score is 0.21013275695219236\n",
      "average: 0.139\n",
      "std: 0.07\n",
      "test accuracy score: 0.139 +/- 0.07\n"
     ]
    }
   ],
   "source": [
    "test_scores_list = [] \n",
    "for i in range(10): \n",
    "    random_state = 23*(i+1)\n",
    "    best_para, CV_score, r2_score, model = ML_pipeline_kfold(X, y, random_state, 5) \n",
    "    test_scores_list.append(r2_score) \n",
    "    print('random state = {}. Best n_neighbors is {}. r2_score is {}'.format(random_state, best_para, test_scores_list[-1])) \n",
    "average_list = np.mean(test_scores_list) \n",
    "std_list = np.std(test_scores_list)\n",
    "print('average:', np.around(average_list,3))\n",
    "print('std:', np.around(std_list,3))\n",
    "print('test accuracy score:', np.around(average_list,3), '+/-', np.around(std_list,3))"
   ]
  },
  {
   "cell_type": "code",
   "execution_count": null,
   "metadata": {},
   "outputs": [],
   "source": []
  },
  {
   "cell_type": "code",
   "execution_count": null,
   "metadata": {},
   "outputs": [],
   "source": []
  }
 ],
 "metadata": {
  "kernelspec": {
   "display_name": "Python 3",
   "language": "python",
   "name": "python3"
  },
  "language_info": {
   "codemirror_mode": {
    "name": "ipython",
    "version": 3
   },
   "file_extension": ".py",
   "mimetype": "text/x-python",
   "name": "python",
   "nbconvert_exporter": "python",
   "pygments_lexer": "ipython3",
   "version": "3.7.3"
  }
 },
 "nbformat": 4,
 "nbformat_minor": 4
}
