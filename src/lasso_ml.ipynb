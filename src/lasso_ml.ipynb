{
 "cells": [
  {
   "cell_type": "code",
   "execution_count": 16,
   "metadata": {},
   "outputs": [],
   "source": [
    "import pandas as pd \n",
    "import numpy as np \n",
    "from scipy.stats import norm\n",
    "from scipy import stats\n",
    "from sklearn.model_selection import KFold \n",
    "from sklearn.model_selection import train_test_split \n",
    "from sklearn.model_selection import StratifiedKFold \n",
    "from sklearn.metrics import r2_score\n",
    "from sklearn.metrics import mean_squared_error\n",
    "from sklearn.linear_model import Lasso\n",
    "import matplotlib.pylab as plt\n",
    "import warnings\n",
    "warnings.filterwarnings('ignore')"
   ]
  },
  {
   "cell_type": "code",
   "execution_count": 17,
   "metadata": {},
   "outputs": [],
   "source": [
    "df = pd.read_csv('../data/preprocessed_data.csv')\n",
    "df = df.astype(float)\n",
    "df.dropna(inplace=True) \n",
    "df.reset_index(drop=True, inplace=True)\n",
    "label = 'price'\n",
    "y = df[label]\n",
    "X = df.drop(columns=[label])"
   ]
  },
  {
   "cell_type": "code",
   "execution_count": 14,
   "metadata": {},
   "outputs": [],
   "source": [
    "def ML_pipeline_kfold(X, y, random_state, n_folds): \n",
    "    \n",
    "    X_other, X_test, y_other, y_test = train_test_split(X, y, test_size=0.2, random_state = random_state) \n",
    "    kf = StratifiedKFold(n_splits=n_folds, shuffle=True, random_state=random_state) \n",
    "    \n",
    "    CV_scores = []\n",
    "    r2score=[]\n",
    "    best_parameters = [] \n",
    "\n",
    "    for train_index, CV_index in kf.split(X_other, y_other): \n",
    "        \n",
    "        X_train, X_CV = X_other.iloc[train_index.tolist()], X_other.iloc[CV_index.tolist()] \n",
    "        y_train, y_CV = y_other.iloc[train_index.tolist()], y_other.iloc[CV_index.tolist()] \n",
    "\n",
    "        parameters = np.logspace(-4,4,num=8) \n",
    "        \n",
    "        regs = []\n",
    "        CV_score = []\n",
    "        train_score = []\n",
    "\n",
    "        for i in parameters: \n",
    "            reg = Lasso(alpha = i)\n",
    "            reg.fit(X_train, y_train) \n",
    "        \n",
    "            train_score.append(mean_squared_error(y_train,reg.predict(X_train)))\n",
    "            CV_score.append(mean_squared_error(y_CV,reg.predict(X_CV)))\n",
    "            regs.append(reg)\n",
    "        \n",
    "        best_i = parameters[np.argmin(CV_score)] \n",
    "        best_parameters.append(best_i) \n",
    "        \n",
    "        reg = regs[np.argmin(CV_score)]\n",
    "        CV_scores.append(np.min(CV_score))\n",
    "        \n",
    "        r2score.append(reg.score(X_test,y_test))\n",
    "        \n",
    "        best_para = best_parameters[np.argmax(r2score)] \n",
    "        \n",
    "    return best_para, min(CV_score), max(r2score), reg"
   ]
  },
  {
   "cell_type": "code",
   "execution_count": 15,
   "metadata": {},
   "outputs": [
    {
     "name": "stdout",
     "output_type": "stream",
     "text": [
      "random state = 23. Best alpha is 0.019306977288832496. r2_score is 0.12153362462391848\n",
      "random state = 46. Best alpha is 0.019306977288832496. r2_score is 0.1118259282679771\n",
      "random state = 69. Best alpha is 0.019306977288832496. r2_score is 0.0996183337252291\n",
      "random state = 92. Best alpha is 0.019306977288832496. r2_score is 0.12734334243453704\n",
      "random state = 115. Best alpha is 0.019306977288832496. r2_score is 0.07851414747804741\n",
      "random state = 138. Best alpha is 0.019306977288832496. r2_score is 0.12379909431584779\n",
      "random state = 161. Best alpha is 0.019306977288832496. r2_score is 0.09220396141791687\n",
      "random state = 184. Best alpha is 0.019306977288832496. r2_score is 0.1768878333991758\n",
      "random state = 207. Best alpha is 0.019306977288832496. r2_score is 0.14185767421391615\n",
      "random state = 230. Best alpha is 0.019306977288832496. r2_score is 0.09781416547923305\n",
      "average: 0.117\n",
      "std: 0.027\n",
      "test accuracy score: 0.117 +/- 0.027\n"
     ]
    }
   ],
   "source": [
    "test_scores_list = [] \n",
    "for i in range(10): \n",
    "    random_state = 23*(i+1)\n",
    "    best_para, CV_score, r2_score, model = ML_pipeline_kfold(X, y, random_state, 5) \n",
    "    test_scores_list.append(r2_score) \n",
    "    print('random state = {}. Best alpha is {}. r2_score is {}'.format(random_state, best_para, test_scores_list[-1])) \n",
    "average_list = np.mean(test_scores_list) \n",
    "std_list = np.std(test_scores_list)\n",
    "print('average:', np.around(average_list,3))\n",
    "print('std:', np.around(std_list,3))\n",
    "print('test accuracy score:', np.around(average_list,3), '+/-', np.around(std_list,3))"
   ]
  },
  {
   "cell_type": "code",
   "execution_count": null,
   "metadata": {},
   "outputs": [],
   "source": []
  },
  {
   "cell_type": "code",
   "execution_count": null,
   "metadata": {},
   "outputs": [],
   "source": []
  }
 ],
 "metadata": {
  "kernelspec": {
   "display_name": "Python 3",
   "language": "python",
   "name": "python3"
  },
  "language_info": {
   "codemirror_mode": {
    "name": "ipython",
    "version": 3
   },
   "file_extension": ".py",
   "mimetype": "text/x-python",
   "name": "python",
   "nbconvert_exporter": "python",
   "pygments_lexer": "ipython3",
   "version": "3.7.3"
  }
 },
 "nbformat": 4,
 "nbformat_minor": 4
}
