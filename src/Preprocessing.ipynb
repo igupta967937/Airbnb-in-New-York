{
 "cells": [
  {
   "cell_type": "markdown",
   "metadata": {},
   "source": [
    "<h1><center><font size=\"9\">Data1030 Preprocessing & EDA</font></center></h1>"
   ]
  },
  {
   "cell_type": "markdown",
   "metadata": {},
   "source": [
    "<h1><center><font size=\"7\">Airbnb in New York</font></center></h1>\n",
    "<h1><center><font size=\"6\">Yuyang Li</font></center></h1>"
   ]
  },
  {
   "cell_type": "code",
   "execution_count": null,
   "metadata": {},
   "outputs": [],
   "source": [
    "import pandas as pd\n",
    "import numpy as np\n",
    "import nltk\n",
    "from nltk.tokenize import word_tokenize\n",
    "from nltk.corpus import stopwords\n",
    "from nltk.stem import PorterStemmer\n",
    "from nltk.tokenize import sent_tokenize, word_tokenize\n",
    "from nltk.probability import FreqDist\n",
    "from ethnicolr import census_ln, pred_census_ln\n",
    "from sklearn.preprocessing import OneHotEncoder\n",
    "from sklearn.preprocessing import MinMaxScaler\n",
    "from sklearn.preprocessing import StandardScaler"
   ]
  },
  {
   "cell_type": "markdown",
   "metadata": {},
   "source": [
    "<font size=\"6\">1. Project Task</font>"
   ]
  },
  {
   "cell_type": "markdown",
   "metadata": {},
   "source": [
    "The goal of this project is to build different machine learning models to predict the prices of Airbnb in New York, given the datasets from Kaggle. See https://www.kaggle.com/dgomonov/new-york-city-airbnb-open-data/downloads/new-york-city-airbnb-open-data.zip/3#AB_NYC_2019.csv. The target variable is the prices of Airbnb in New York and the problem is regression. It is pretty interesting because nowadays more people use airbnb to expand on traveling possibilities. Staying in airbnb gives people more personalized experiences."
   ]
  },
  {
   "cell_type": "markdown",
   "metadata": {},
   "source": [
    "<font size=\"6\">2. Related Work</font> "
   ]
  },
  {
   "cell_type": "markdown",
   "metadata": {},
   "source": [
    "From Kaggle Kernels, I have gone through some of projects completed by other people. In Dgomonov's \"Data Exploration on NYC Airbnb\", he uses the data for security, business decisions and guiding marketing initiatives, etc. Features such as id, host_name and last_review are dropped since these features are not significant for future predictions. I get some ideas of how to implement exploratory data analysis and feature engineering for the dataset. In Andrew W's \"Smart Pricing with XGB, RFR + Interpretations\", he uses the data to build and train a smart pricing model. The target variable is price. The price is initially transformed through log-transformation. I learn some feasible regression models."
   ]
  },
  {
   "cell_type": "markdown",
   "metadata": {},
   "source": [
    "<font size=\"6\">3. Dataset and Metric</font> "
   ]
  },
  {
   "cell_type": "markdown",
   "metadata": {},
   "source": [
    "The dataset and a map of New York city are provided by Kaggle. Originally, there are in total 16 features and 48895 rows in the dataset 'AB_NYC_2019.csv'."
   ]
  },
  {
   "cell_type": "code",
   "execution_count": 1,
   "metadata": {},
   "outputs": [
    {
     "data": {
      "text/html": [
       "<div>\n",
       "<style scoped>\n",
       "    .dataframe tbody tr th:only-of-type {\n",
       "        vertical-align: middle;\n",
       "    }\n",
       "\n",
       "    .dataframe tbody tr th {\n",
       "        vertical-align: top;\n",
       "    }\n",
       "\n",
       "    .dataframe thead th {\n",
       "        text-align: right;\n",
       "    }\n",
       "</style>\n",
       "<table border=\"1\" class=\"dataframe\">\n",
       "  <thead>\n",
       "    <tr style=\"text-align: right;\">\n",
       "      <th></th>\n",
       "      <th>id</th>\n",
       "      <th>name</th>\n",
       "      <th>host_id</th>\n",
       "      <th>host_name</th>\n",
       "      <th>neighbourhood_group</th>\n",
       "      <th>neighbourhood</th>\n",
       "      <th>latitude</th>\n",
       "      <th>longitude</th>\n",
       "      <th>room_type</th>\n",
       "      <th>price</th>\n",
       "      <th>minimum_nights</th>\n",
       "      <th>number_of_reviews</th>\n",
       "      <th>last_review</th>\n",
       "      <th>reviews_per_month</th>\n",
       "      <th>calculated_host_listings_count</th>\n",
       "      <th>availability_365</th>\n",
       "    </tr>\n",
       "  </thead>\n",
       "  <tbody>\n",
       "    <tr>\n",
       "      <th>0</th>\n",
       "      <td>2539</td>\n",
       "      <td>Clean &amp; quiet apt home by the park</td>\n",
       "      <td>2787</td>\n",
       "      <td>John</td>\n",
       "      <td>Brooklyn</td>\n",
       "      <td>Kensington</td>\n",
       "      <td>40.64749</td>\n",
       "      <td>-73.97237</td>\n",
       "      <td>Private room</td>\n",
       "      <td>149</td>\n",
       "      <td>1</td>\n",
       "      <td>9</td>\n",
       "      <td>2018-10-19</td>\n",
       "      <td>0.21</td>\n",
       "      <td>6</td>\n",
       "      <td>365</td>\n",
       "    </tr>\n",
       "    <tr>\n",
       "      <th>1</th>\n",
       "      <td>2595</td>\n",
       "      <td>Skylit Midtown Castle</td>\n",
       "      <td>2845</td>\n",
       "      <td>Jennifer</td>\n",
       "      <td>Manhattan</td>\n",
       "      <td>Midtown</td>\n",
       "      <td>40.75362</td>\n",
       "      <td>-73.98377</td>\n",
       "      <td>Entire home/apt</td>\n",
       "      <td>225</td>\n",
       "      <td>1</td>\n",
       "      <td>45</td>\n",
       "      <td>2019-05-21</td>\n",
       "      <td>0.38</td>\n",
       "      <td>2</td>\n",
       "      <td>355</td>\n",
       "    </tr>\n",
       "    <tr>\n",
       "      <th>2</th>\n",
       "      <td>3647</td>\n",
       "      <td>THE VILLAGE OF HARLEM....NEW YORK !</td>\n",
       "      <td>4632</td>\n",
       "      <td>Elisabeth</td>\n",
       "      <td>Manhattan</td>\n",
       "      <td>Harlem</td>\n",
       "      <td>40.80902</td>\n",
       "      <td>-73.94190</td>\n",
       "      <td>Private room</td>\n",
       "      <td>150</td>\n",
       "      <td>3</td>\n",
       "      <td>0</td>\n",
       "      <td>NaN</td>\n",
       "      <td>NaN</td>\n",
       "      <td>1</td>\n",
       "      <td>365</td>\n",
       "    </tr>\n",
       "    <tr>\n",
       "      <th>3</th>\n",
       "      <td>3831</td>\n",
       "      <td>Cozy Entire Floor of Brownstone</td>\n",
       "      <td>4869</td>\n",
       "      <td>LisaRoxanne</td>\n",
       "      <td>Brooklyn</td>\n",
       "      <td>Clinton Hill</td>\n",
       "      <td>40.68514</td>\n",
       "      <td>-73.95976</td>\n",
       "      <td>Entire home/apt</td>\n",
       "      <td>89</td>\n",
       "      <td>1</td>\n",
       "      <td>270</td>\n",
       "      <td>2019-07-05</td>\n",
       "      <td>4.64</td>\n",
       "      <td>1</td>\n",
       "      <td>194</td>\n",
       "    </tr>\n",
       "    <tr>\n",
       "      <th>4</th>\n",
       "      <td>5022</td>\n",
       "      <td>Entire Apt: Spacious Studio/Loft by central park</td>\n",
       "      <td>7192</td>\n",
       "      <td>Laura</td>\n",
       "      <td>Manhattan</td>\n",
       "      <td>East Harlem</td>\n",
       "      <td>40.79851</td>\n",
       "      <td>-73.94399</td>\n",
       "      <td>Entire home/apt</td>\n",
       "      <td>80</td>\n",
       "      <td>10</td>\n",
       "      <td>9</td>\n",
       "      <td>2018-11-19</td>\n",
       "      <td>0.10</td>\n",
       "      <td>1</td>\n",
       "      <td>0</td>\n",
       "    </tr>\n",
       "  </tbody>\n",
       "</table>\n",
       "</div>"
      ],
      "text/plain": [
       "     id                                              name  host_id  \\\n",
       "0  2539                Clean & quiet apt home by the park     2787   \n",
       "1  2595                             Skylit Midtown Castle     2845   \n",
       "2  3647               THE VILLAGE OF HARLEM....NEW YORK !     4632   \n",
       "3  3831                   Cozy Entire Floor of Brownstone     4869   \n",
       "4  5022  Entire Apt: Spacious Studio/Loft by central park     7192   \n",
       "\n",
       "     host_name neighbourhood_group neighbourhood  latitude  longitude  \\\n",
       "0         John            Brooklyn    Kensington  40.64749  -73.97237   \n",
       "1     Jennifer           Manhattan       Midtown  40.75362  -73.98377   \n",
       "2    Elisabeth           Manhattan        Harlem  40.80902  -73.94190   \n",
       "3  LisaRoxanne            Brooklyn  Clinton Hill  40.68514  -73.95976   \n",
       "4        Laura           Manhattan   East Harlem  40.79851  -73.94399   \n",
       "\n",
       "         room_type  price  minimum_nights  number_of_reviews last_review  \\\n",
       "0     Private room    149               1                  9  2018-10-19   \n",
       "1  Entire home/apt    225               1                 45  2019-05-21   \n",
       "2     Private room    150               3                  0         NaN   \n",
       "3  Entire home/apt     89               1                270  2019-07-05   \n",
       "4  Entire home/apt     80              10                  9  2018-11-19   \n",
       "\n",
       "   reviews_per_month  calculated_host_listings_count  availability_365  \n",
       "0               0.21                               6               365  \n",
       "1               0.38                               2               355  \n",
       "2                NaN                               1               365  \n",
       "3               4.64                               1               194  \n",
       "4               0.10                               1                 0  "
      ]
     },
     "execution_count": 1,
     "metadata": {},
     "output_type": "execute_result"
    }
   ],
   "source": [
    "df = pd.read_csv('../data/AB_NYC_2019.csv')\n",
    "df.head()"
   ]
  },
  {
   "cell_type": "code",
   "execution_count": 2,
   "metadata": {},
   "outputs": [
    {
     "name": "stdout",
     "output_type": "stream",
     "text": [
      "Total number of rows: 48895\n",
      "Total number of features: 16\n"
     ]
    }
   ],
   "source": [
    "print(\"Total number of rows:\", df.shape[0])\n",
    "print(\"Total number of features:\",df.shape[1])"
   ]
  },
  {
   "cell_type": "markdown",
   "metadata": {},
   "source": [
    "<font size=\"5\">3.1 Missing Values</font> "
   ]
  },
  {
   "cell_type": "code",
   "execution_count": 3,
   "metadata": {},
   "outputs": [
    {
     "name": "stdout",
     "output_type": "stream",
     "text": [
      "id                                0.000000\n",
      "name                              0.000327\n",
      "host_id                           0.000000\n",
      "host_name                         0.000429\n",
      "neighbourhood_group               0.000000\n",
      "neighbourhood                     0.000000\n",
      "latitude                          0.000000\n",
      "longitude                         0.000000\n",
      "room_type                         0.000000\n",
      "price                             0.000000\n",
      "minimum_nights                    0.000000\n",
      "number_of_reviews                 0.000000\n",
      "last_review                       0.205583\n",
      "reviews_per_month                 0.205583\n",
      "calculated_host_listings_count    0.000000\n",
      "availability_365                  0.000000\n",
      "dtype: float64\n"
     ]
    }
   ],
   "source": [
    "df.replace(to_replace=' ?',value = np.nan, inplace=True)\n",
    "res = df.isnull().sum(axis=0)/df.shape[0]\n",
    "print(res)"
   ]
  },
  {
   "cell_type": "markdown",
   "metadata": {},
   "source": [
    "From above, name, host_name, last_review and reviews_per_month are the four features which have missing values."
   ]
  },
  {
   "cell_type": "markdown",
   "metadata": {},
   "source": [
    "| Feature | Percentage |\n",
    "| ------- | ---------- |\n",
    "| name | 0.000327 |\n",
    "| host_name | 0.000429 |\n",
    "| last_review | 0.205583 |\n",
    "| reviews_per_month | 0.205583 |"
   ]
  },
  {
   "cell_type": "markdown",
   "metadata": {},
   "source": [
    "For reviews_per_month, I will replace the missing values by 0, because by intuition, if there is no reviews per month, it means that the reviews per month is 0. And same for last_review, because by intuition, if there is no last review, it means that the date for last review does not exist. So I will replace the missing values by 0 as well. And for name and host_name, I will firstly perform NLP technique and Race & Ethnicity technique separately to generate new feature columns. After generating new feature columns, I will drop the original features name and host_name, and use the new feature columns instead."
   ]
  },
  {
   "cell_type": "code",
   "execution_count": 4,
   "metadata": {},
   "outputs": [],
   "source": [
    "df.fillna({'reviews_per_month':0}, inplace = True)\n",
    "df.fillna({'last_review':0}, inplace = True)"
   ]
  },
  {
   "cell_type": "markdown",
   "metadata": {},
   "source": [
    "<font size=\"5\">3.2 Dropping Features</font> "
   ]
  },
  {
   "cell_type": "markdown",
   "metadata": {},
   "source": [
    "Features id and host_id are dropped. For id, it represents listing id which is meaningless. For host_id, it is meaningful because one host could have more than one listing. However, calculated_host_listings_count represents the amount of listing per host. Since there is calculated_host_listings_count in the features, I will drop host_id."
   ]
  },
  {
   "cell_type": "code",
   "execution_count": 5,
   "metadata": {},
   "outputs": [
    {
     "data": {
      "text/plain": [
       "219517861    327\n",
       "107434423    232\n",
       "30283594     121\n",
       "137358866    103\n",
       "12243051      96\n",
       "16098958      96\n",
       "61391963      91\n",
       "22541573      87\n",
       "200380610     65\n",
       "7503643       52\n",
       "Name: host_id, dtype: int64"
      ]
     },
     "execution_count": 5,
     "metadata": {},
     "output_type": "execute_result"
    }
   ],
   "source": [
    "host=df['host_id'].value_counts().head(10)\n",
    "host"
   ]
  },
  {
   "cell_type": "code",
   "execution_count": 6,
   "metadata": {},
   "outputs": [
    {
     "data": {
      "text/plain": [
       "327"
      ]
     },
     "execution_count": 6,
     "metadata": {},
     "output_type": "execute_result"
    }
   ],
   "source": [
    "host_confirm = df['calculated_host_listings_count'].max()\n",
    "host_confirm"
   ]
  },
  {
   "cell_type": "markdown",
   "metadata": {},
   "source": [
    "By comparing above two results, I confirm that calculated_host_listings_count is the same as the most listings host_id can have."
   ]
  },
  {
   "cell_type": "code",
   "execution_count": 7,
   "metadata": {},
   "outputs": [
    {
     "data": {
      "text/html": [
       "<div>\n",
       "<style scoped>\n",
       "    .dataframe tbody tr th:only-of-type {\n",
       "        vertical-align: middle;\n",
       "    }\n",
       "\n",
       "    .dataframe tbody tr th {\n",
       "        vertical-align: top;\n",
       "    }\n",
       "\n",
       "    .dataframe thead th {\n",
       "        text-align: right;\n",
       "    }\n",
       "</style>\n",
       "<table border=\"1\" class=\"dataframe\">\n",
       "  <thead>\n",
       "    <tr style=\"text-align: right;\">\n",
       "      <th></th>\n",
       "      <th>name</th>\n",
       "      <th>host_name</th>\n",
       "      <th>neighbourhood_group</th>\n",
       "      <th>neighbourhood</th>\n",
       "      <th>latitude</th>\n",
       "      <th>longitude</th>\n",
       "      <th>room_type</th>\n",
       "      <th>price</th>\n",
       "      <th>minimum_nights</th>\n",
       "      <th>number_of_reviews</th>\n",
       "      <th>last_review</th>\n",
       "      <th>reviews_per_month</th>\n",
       "      <th>calculated_host_listings_count</th>\n",
       "      <th>availability_365</th>\n",
       "    </tr>\n",
       "  </thead>\n",
       "  <tbody>\n",
       "    <tr>\n",
       "      <th>0</th>\n",
       "      <td>Clean &amp; quiet apt home by the park</td>\n",
       "      <td>John</td>\n",
       "      <td>Brooklyn</td>\n",
       "      <td>Kensington</td>\n",
       "      <td>40.64749</td>\n",
       "      <td>-73.97237</td>\n",
       "      <td>Private room</td>\n",
       "      <td>149</td>\n",
       "      <td>1</td>\n",
       "      <td>9</td>\n",
       "      <td>2018-10-19</td>\n",
       "      <td>0.21</td>\n",
       "      <td>6</td>\n",
       "      <td>365</td>\n",
       "    </tr>\n",
       "    <tr>\n",
       "      <th>1</th>\n",
       "      <td>Skylit Midtown Castle</td>\n",
       "      <td>Jennifer</td>\n",
       "      <td>Manhattan</td>\n",
       "      <td>Midtown</td>\n",
       "      <td>40.75362</td>\n",
       "      <td>-73.98377</td>\n",
       "      <td>Entire home/apt</td>\n",
       "      <td>225</td>\n",
       "      <td>1</td>\n",
       "      <td>45</td>\n",
       "      <td>2019-05-21</td>\n",
       "      <td>0.38</td>\n",
       "      <td>2</td>\n",
       "      <td>355</td>\n",
       "    </tr>\n",
       "    <tr>\n",
       "      <th>2</th>\n",
       "      <td>THE VILLAGE OF HARLEM....NEW YORK !</td>\n",
       "      <td>Elisabeth</td>\n",
       "      <td>Manhattan</td>\n",
       "      <td>Harlem</td>\n",
       "      <td>40.80902</td>\n",
       "      <td>-73.94190</td>\n",
       "      <td>Private room</td>\n",
       "      <td>150</td>\n",
       "      <td>3</td>\n",
       "      <td>0</td>\n",
       "      <td>0</td>\n",
       "      <td>0.00</td>\n",
       "      <td>1</td>\n",
       "      <td>365</td>\n",
       "    </tr>\n",
       "    <tr>\n",
       "      <th>3</th>\n",
       "      <td>Cozy Entire Floor of Brownstone</td>\n",
       "      <td>LisaRoxanne</td>\n",
       "      <td>Brooklyn</td>\n",
       "      <td>Clinton Hill</td>\n",
       "      <td>40.68514</td>\n",
       "      <td>-73.95976</td>\n",
       "      <td>Entire home/apt</td>\n",
       "      <td>89</td>\n",
       "      <td>1</td>\n",
       "      <td>270</td>\n",
       "      <td>2019-07-05</td>\n",
       "      <td>4.64</td>\n",
       "      <td>1</td>\n",
       "      <td>194</td>\n",
       "    </tr>\n",
       "    <tr>\n",
       "      <th>4</th>\n",
       "      <td>Entire Apt: Spacious Studio/Loft by central park</td>\n",
       "      <td>Laura</td>\n",
       "      <td>Manhattan</td>\n",
       "      <td>East Harlem</td>\n",
       "      <td>40.79851</td>\n",
       "      <td>-73.94399</td>\n",
       "      <td>Entire home/apt</td>\n",
       "      <td>80</td>\n",
       "      <td>10</td>\n",
       "      <td>9</td>\n",
       "      <td>2018-11-19</td>\n",
       "      <td>0.10</td>\n",
       "      <td>1</td>\n",
       "      <td>0</td>\n",
       "    </tr>\n",
       "  </tbody>\n",
       "</table>\n",
       "</div>"
      ],
      "text/plain": [
       "                                               name    host_name  \\\n",
       "0                Clean & quiet apt home by the park         John   \n",
       "1                             Skylit Midtown Castle     Jennifer   \n",
       "2               THE VILLAGE OF HARLEM....NEW YORK !    Elisabeth   \n",
       "3                   Cozy Entire Floor of Brownstone  LisaRoxanne   \n",
       "4  Entire Apt: Spacious Studio/Loft by central park        Laura   \n",
       "\n",
       "  neighbourhood_group neighbourhood  latitude  longitude        room_type  \\\n",
       "0            Brooklyn    Kensington  40.64749  -73.97237     Private room   \n",
       "1           Manhattan       Midtown  40.75362  -73.98377  Entire home/apt   \n",
       "2           Manhattan        Harlem  40.80902  -73.94190     Private room   \n",
       "3            Brooklyn  Clinton Hill  40.68514  -73.95976  Entire home/apt   \n",
       "4           Manhattan   East Harlem  40.79851  -73.94399  Entire home/apt   \n",
       "\n",
       "   price  minimum_nights  number_of_reviews last_review  reviews_per_month  \\\n",
       "0    149               1                  9  2018-10-19               0.21   \n",
       "1    225               1                 45  2019-05-21               0.38   \n",
       "2    150               3                  0           0               0.00   \n",
       "3     89               1                270  2019-07-05               4.64   \n",
       "4     80              10                  9  2018-11-19               0.10   \n",
       "\n",
       "   calculated_host_listings_count  availability_365  \n",
       "0                               6               365  \n",
       "1                               2               355  \n",
       "2                               1               365  \n",
       "3                               1               194  \n",
       "4                               1                 0  "
      ]
     },
     "execution_count": 7,
     "metadata": {},
     "output_type": "execute_result"
    }
   ],
   "source": [
    "df = df.drop(['id'],axis=1)\n",
    "df = df.drop(['host_id'],axis=1)\n",
    "df.head()"
   ]
  },
  {
   "cell_type": "markdown",
   "metadata": {},
   "source": [
    "<font size=\"5\">3.3 NLP Technique</font> "
   ]
  },
  {
   "cell_type": "markdown",
   "metadata": {},
   "source": [
    "For name, I will use NLP technique to find out the top most frequent word."
   ]
  },
  {
   "cell_type": "code",
   "execution_count": 8,
   "metadata": {},
   "outputs": [
    {
     "data": {
      "text/html": [
       "<div>\n",
       "<style scoped>\n",
       "    .dataframe tbody tr th:only-of-type {\n",
       "        vertical-align: middle;\n",
       "    }\n",
       "\n",
       "    .dataframe tbody tr th {\n",
       "        vertical-align: top;\n",
       "    }\n",
       "\n",
       "    .dataframe thead th {\n",
       "        text-align: right;\n",
       "    }\n",
       "</style>\n",
       "<table border=\"1\" class=\"dataframe\">\n",
       "  <thead>\n",
       "    <tr style=\"text-align: right;\">\n",
       "      <th></th>\n",
       "      <th>word</th>\n",
       "      <th>count</th>\n",
       "    </tr>\n",
       "  </thead>\n",
       "  <tbody>\n",
       "    <tr>\n",
       "      <th>0</th>\n",
       "      <td>,</td>\n",
       "      <td>55567</td>\n",
       "    </tr>\n",
       "    <tr>\n",
       "      <th>1</th>\n",
       "      <td>room</td>\n",
       "      <td>10096</td>\n",
       "    </tr>\n",
       "    <tr>\n",
       "      <th>2</th>\n",
       "      <td>!</td>\n",
       "      <td>7855</td>\n",
       "    </tr>\n",
       "    <tr>\n",
       "      <th>3</th>\n",
       "      <td>bedroom</td>\n",
       "      <td>7787</td>\n",
       "    </tr>\n",
       "    <tr>\n",
       "      <th>4</th>\n",
       "      <td>privat</td>\n",
       "      <td>7166</td>\n",
       "    </tr>\n",
       "    <tr>\n",
       "      <th>5</th>\n",
       "      <td>apart</td>\n",
       "      <td>6480</td>\n",
       "    </tr>\n",
       "    <tr>\n",
       "      <th>6</th>\n",
       "      <td>cozi</td>\n",
       "      <td>5021</td>\n",
       "    </tr>\n",
       "    <tr>\n",
       "      <th>7</th>\n",
       "      <td>apt</td>\n",
       "      <td>4323</td>\n",
       "    </tr>\n",
       "    <tr>\n",
       "      <th>8</th>\n",
       "      <td>brooklyn</td>\n",
       "      <td>4010</td>\n",
       "    </tr>\n",
       "    <tr>\n",
       "      <th>9</th>\n",
       "      <td>studio</td>\n",
       "      <td>3943</td>\n",
       "    </tr>\n",
       "  </tbody>\n",
       "</table>\n",
       "</div>"
      ],
      "text/plain": [
       "       word  count\n",
       "0         ,  55567\n",
       "1      room  10096\n",
       "2         !   7855\n",
       "3   bedroom   7787\n",
       "4    privat   7166\n",
       "5     apart   6480\n",
       "6      cozi   5021\n",
       "7       apt   4323\n",
       "8  brooklyn   4010\n",
       "9    studio   3943"
      ]
     },
     "execution_count": 8,
     "metadata": {},
     "output_type": "execute_result"
    }
   ],
   "source": [
    "# get copy of df\n",
    "df_copy = df.copy()\n",
    "\n",
    "# assemble all the rows from name\n",
    "all_name = df_copy['name'].str.cat(sep=',')\n",
    "\n",
    "# transform all_name into tokenized_word\n",
    "text = all_name\n",
    "tokenized_word = word_tokenize(text)\n",
    "\n",
    "# generate a set of all non-important words\n",
    "stop_words = set(stopwords.words(\"english\"))\n",
    "\n",
    "# delete all non-important words\n",
    "filtered_sent = []\n",
    "for w in tokenized_word:\n",
    "    if w not in stop_words:\n",
    "        filtered_sent.append(w)\n",
    "\n",
    "# reduce words to word root\n",
    "ps=PorterStemmer()\n",
    "stemmed_words=[]\n",
    "for w in filtered_sent:\n",
    "    stemmed_words.append(ps.stem(w))\n",
    "    \n",
    "# get top 10 most common words\n",
    "fdist = FreqDist(stemmed_words)\n",
    "topmostcommonwords = fdist.most_common(10)\n",
    "df_commonwords = pd.DataFrame(topmostcommonwords, columns=['word','count'])\n",
    "df_commonwords"
   ]
  },
  {
   "cell_type": "markdown",
   "metadata": {},
   "source": [
    "I decide to use bedroom, privat, apart and brooklyn, because ',' 'room' '!' 'apt' do not make too much sense. Room is too vague, apt is probably the same as apart and it is less frequent than apart, cozi is somewhat vague as well."
   ]
  },
  {
   "cell_type": "markdown",
   "metadata": {},
   "source": [
    "| Feature |\n",
    "| ------- |\n",
    "| bedroom |\n",
    "| privat |\n",
    "| apart |\n",
    "| brooklyn |"
   ]
  },
  {
   "cell_type": "markdown",
   "metadata": {},
   "source": [
    "Replace the missing value in feature name with \"NA. In the next step, if row of feature name has at least one of the four words above, I will classify it to 'positive'. Otherwise, classify it to 'negative'. So replacing with \"NA\" simply means it will be classified as 'negative'."
   ]
  },
  {
   "cell_type": "code",
   "execution_count": 8,
   "metadata": {},
   "outputs": [],
   "source": [
    "df.fillna({'name':\"NA\"}, inplace = True)"
   ]
  },
  {
   "cell_type": "code",
   "execution_count": 9,
   "metadata": {},
   "outputs": [
    {
     "name": "stderr",
     "output_type": "stream",
     "text": [
      "/opt/conda/lib/python3.7/site-packages/ipykernel_launcher.py:11: SettingWithCopyWarning: \n",
      "A value is trying to be set on a copy of a slice from a DataFrame\n",
      "\n",
      "See the caveats in the documentation: http://pandas.pydata.org/pandas-docs/stable/user_guide/indexing.html#returning-a-view-versus-a-copy\n",
      "  # This is added back by InteractiveShellApp.init_path()\n",
      "/opt/conda/lib/python3.7/site-packages/ipykernel_launcher.py:8: SettingWithCopyWarning: \n",
      "A value is trying to be set on a copy of a slice from a DataFrame\n",
      "\n",
      "See the caveats in the documentation: http://pandas.pydata.org/pandas-docs/stable/user_guide/indexing.html#returning-a-view-versus-a-copy\n",
      "  \n"
     ]
    }
   ],
   "source": [
    "for i in range(len(df['name'])):\n",
    "    featurelist = ['bedroom', 'privat', 'apart', 'brooklyn']\n",
    "    df_name_new = df['name'][i].split(\" \")\n",
    "    for j in range(len(df_name_new)):\n",
    "        df_name_new[j] = df_name_new[j].lower()\n",
    "        for item in featurelist:\n",
    "            if item in df_name_new:\n",
    "                df['name'][i] = 'positive'\n",
    "                break\n",
    "            else:\n",
    "                df['name'][i] = 'negative'"
   ]
  },
  {
   "cell_type": "markdown",
   "metadata": {},
   "source": [
    "<font size=\"5\">3.4 Race and Ethnicity </font> "
   ]
  },
  {
   "cell_type": "markdown",
   "metadata": {},
   "source": [
    "For the host_name, I will try to classify the name of the host based on the race and ethnicity from name."
   ]
  },
  {
   "cell_type": "code",
   "execution_count": 10,
   "metadata": {},
   "outputs": [],
   "source": [
    "# tensorflow is not allowed on python 3.7 package ethnicolr\n",
    "#pandas==0.19.2\n",
    "#h5py==2.7.0\n",
    "#Keras==2.2.0\n",
    "#numpy==1.14.5\n",
    "#tensorflow==1.12.3"
   ]
  },
  {
   "cell_type": "code",
   "execution_count": 11,
   "metadata": {},
   "outputs": [],
   "source": [
    "# replace the missing value with \" \"\n",
    "df.fillna({'host_name':\" \"}, inplace = True)"
   ]
  },
  {
   "cell_type": "code",
   "execution_count": 14,
   "metadata": {},
   "outputs": [],
   "source": [
    "df_copy = df.copy()\n",
    "names = df_copy['host_name']\n",
    "df_host_name = pd.DataFrame(names, columns=['host_name'])\n",
    "output = pred_census_ln(df_host_name, 'host_name')\n",
    "columns = ['host_name','race']\n",
    "X = output[columns]\n",
    "df_race = pd.DataFrame(X, columns=columns)\n",
    "#df_race.head()"
   ]
  },
  {
   "cell_type": "code",
   "execution_count": 15,
   "metadata": {},
   "outputs": [],
   "source": [
    "df_result = pd.concat([df, df_race], axis=1)\n",
    "#df_result[10:30]"
   ]
  },
  {
   "cell_type": "code",
   "execution_count": 16,
   "metadata": {},
   "outputs": [],
   "source": [
    "columns = ['host_name']\n",
    "df_result.drop(columns, inplace=True, axis=1)\n",
    "#df_result[10:30]"
   ]
  },
  {
   "cell_type": "markdown",
   "metadata": {},
   "source": [
    "<font size=\"5\">3.5 last_review </font> "
   ]
  },
  {
   "cell_type": "code",
   "execution_count": 17,
   "metadata": {},
   "outputs": [],
   "source": [
    "standard = pd.Timestamp('2019-07-09').timestamp()\n",
    "standard_day = int(standard)\n",
    "timelist = []\n",
    "#print(standard_day)\n",
    "for i in range(len(df['last_review'])):\n",
    "    outputresult = pd.Timestamp(df['last_review'][i]).timestamp()\n",
    "    all_days = int(outputresult)\n",
    "    diff  = (standard_day - all_days) / 86400\n",
    "    diff_days = int(diff)\n",
    "    #print(diff_days)\n",
    "    timelist.append(diff_days)\n",
    "    #print(timelist)\n",
    "    df_time=pd.DataFrame(timelist, columns=['time'])"
   ]
  },
  {
   "cell_type": "code",
   "execution_count": 18,
   "metadata": {},
   "outputs": [],
   "source": [
    "# 18086 represents number of days between 2019-07-09 and '0', so I need to replace them back to 0 which represents\n",
    "# missing value"
   ]
  },
  {
   "cell_type": "code",
   "execution_count": 19,
   "metadata": {},
   "outputs": [],
   "source": [
    "for i in range(len(df_time['time'])):\n",
    "    if df_time['time'][i]==18086:\n",
    "        df_time['time'].iloc[i] = 0"
   ]
  },
  {
   "cell_type": "code",
   "execution_count": 20,
   "metadata": {},
   "outputs": [],
   "source": [
    "df_finalresult = pd.concat([df_result, df_time], axis=1)\n",
    "#df_finalresult.head()"
   ]
  },
  {
   "cell_type": "code",
   "execution_count": 21,
   "metadata": {},
   "outputs": [],
   "source": [
    "columns = ['last_review']\n",
    "df_finalresult.drop(columns, inplace=True, axis=1)\n",
    "#df_finalresult.head()\n",
    "#df_finalresult.to_csv(\"preprocessed_for_grid.csv\", index = False)\n",
    "#df_finalresult.head()"
   ]
  },
  {
   "cell_type": "markdown",
   "metadata": {},
   "source": [
    "Overall, the dataset is pretty well-documented. The following is a detailed description of each feature finally."
   ]
  },
  {
   "cell_type": "markdown",
   "metadata": {},
   "source": [
    "| Feature | Description | Type |\n",
    "| ------- | ------ ---- | ---- |\n",
    "| name | whether it has at least one of four frequent words | categorical |\n",
    "| neighbourhood_group | location | categorical |\n",
    "| neighbourhood | area | categorical |\n",
    "| latitude | latitude coordinate | numerical |\n",
    "| longitude | longitude coordinate | numerical |\n",
    "| room_type | listing space type | categorical |\n",
    "| price | price in dollar | numerical |\n",
    "| minimum_nights | amount of nights minimum | numerical |\n",
    "| number_of_reviews | number of reviews | numerical |\n",
    "| reviews_per_month | number of reviews per month | numerical |\n",
    "| calculated_host_listings_count | amount of listing per host | numerical |\n",
    "| availability_365 | number of days when listing is available for booking | numerical |\n",
    "| race | ethnicity | categorical |\n",
    "| time | difference between each date and standard date ('2019-07-09') | numerical |"
   ]
  },
  {
   "cell_type": "markdown",
   "metadata": {},
   "source": [
    "<font size=\"6\">4. Data Preprocessing</font> "
   ]
  },
  {
   "cell_type": "markdown",
   "metadata": {},
   "source": [
    "<font size=\"5\">4.1 OneHotEncoder </font> "
   ]
  },
  {
   "cell_type": "markdown",
   "metadata": {},
   "source": [
    "For neighbourhood_group, neighbourhood, I will apply OneHotEncoder because these features are categorical and they could not be ordered. "
   ]
  },
  {
   "cell_type": "code",
   "execution_count": 22,
   "metadata": {},
   "outputs": [
    {
     "data": {
      "text/html": [
       "<div>\n",
       "<style scoped>\n",
       "    .dataframe tbody tr th:only-of-type {\n",
       "        vertical-align: middle;\n",
       "    }\n",
       "\n",
       "    .dataframe tbody tr th {\n",
       "        vertical-align: top;\n",
       "    }\n",
       "\n",
       "    .dataframe thead th {\n",
       "        text-align: right;\n",
       "    }\n",
       "</style>\n",
       "<table border=\"1\" class=\"dataframe\">\n",
       "  <thead>\n",
       "    <tr style=\"text-align: right;\">\n",
       "      <th></th>\n",
       "      <th>neighbourhood_group_Bronx</th>\n",
       "      <th>neighbourhood_group_Brooklyn</th>\n",
       "      <th>neighbourhood_group_Manhattan</th>\n",
       "      <th>neighbourhood_group_Queens</th>\n",
       "      <th>neighbourhood_group_Staten Island</th>\n",
       "      <th>neighbourhood_Allerton</th>\n",
       "      <th>neighbourhood_Arden Heights</th>\n",
       "      <th>neighbourhood_Arrochar</th>\n",
       "      <th>neighbourhood_Arverne</th>\n",
       "      <th>neighbourhood_Astoria</th>\n",
       "      <th>...</th>\n",
       "      <th>neighbourhood_Woodside</th>\n",
       "      <th>room_type_Entire home/apt</th>\n",
       "      <th>room_type_Private room</th>\n",
       "      <th>room_type_Shared room</th>\n",
       "      <th>name_negative</th>\n",
       "      <th>name_positive</th>\n",
       "      <th>race_api</th>\n",
       "      <th>race_black</th>\n",
       "      <th>race_hispanic</th>\n",
       "      <th>race_white</th>\n",
       "    </tr>\n",
       "  </thead>\n",
       "  <tbody>\n",
       "    <tr>\n",
       "      <th>0</th>\n",
       "      <td>0.0</td>\n",
       "      <td>1.0</td>\n",
       "      <td>0.0</td>\n",
       "      <td>0.0</td>\n",
       "      <td>0.0</td>\n",
       "      <td>0.0</td>\n",
       "      <td>0.0</td>\n",
       "      <td>0.0</td>\n",
       "      <td>0.0</td>\n",
       "      <td>0.0</td>\n",
       "      <td>...</td>\n",
       "      <td>0.0</td>\n",
       "      <td>0.0</td>\n",
       "      <td>1.0</td>\n",
       "      <td>0.0</td>\n",
       "      <td>1.0</td>\n",
       "      <td>0.0</td>\n",
       "      <td>0.0</td>\n",
       "      <td>0.0</td>\n",
       "      <td>0.0</td>\n",
       "      <td>1.0</td>\n",
       "    </tr>\n",
       "    <tr>\n",
       "      <th>1</th>\n",
       "      <td>0.0</td>\n",
       "      <td>0.0</td>\n",
       "      <td>1.0</td>\n",
       "      <td>0.0</td>\n",
       "      <td>0.0</td>\n",
       "      <td>0.0</td>\n",
       "      <td>0.0</td>\n",
       "      <td>0.0</td>\n",
       "      <td>0.0</td>\n",
       "      <td>0.0</td>\n",
       "      <td>...</td>\n",
       "      <td>0.0</td>\n",
       "      <td>1.0</td>\n",
       "      <td>0.0</td>\n",
       "      <td>0.0</td>\n",
       "      <td>1.0</td>\n",
       "      <td>0.0</td>\n",
       "      <td>0.0</td>\n",
       "      <td>0.0</td>\n",
       "      <td>0.0</td>\n",
       "      <td>1.0</td>\n",
       "    </tr>\n",
       "    <tr>\n",
       "      <th>2</th>\n",
       "      <td>0.0</td>\n",
       "      <td>0.0</td>\n",
       "      <td>1.0</td>\n",
       "      <td>0.0</td>\n",
       "      <td>0.0</td>\n",
       "      <td>0.0</td>\n",
       "      <td>0.0</td>\n",
       "      <td>0.0</td>\n",
       "      <td>0.0</td>\n",
       "      <td>0.0</td>\n",
       "      <td>...</td>\n",
       "      <td>0.0</td>\n",
       "      <td>0.0</td>\n",
       "      <td>1.0</td>\n",
       "      <td>0.0</td>\n",
       "      <td>1.0</td>\n",
       "      <td>0.0</td>\n",
       "      <td>0.0</td>\n",
       "      <td>0.0</td>\n",
       "      <td>0.0</td>\n",
       "      <td>1.0</td>\n",
       "    </tr>\n",
       "    <tr>\n",
       "      <th>3</th>\n",
       "      <td>0.0</td>\n",
       "      <td>1.0</td>\n",
       "      <td>0.0</td>\n",
       "      <td>0.0</td>\n",
       "      <td>0.0</td>\n",
       "      <td>0.0</td>\n",
       "      <td>0.0</td>\n",
       "      <td>0.0</td>\n",
       "      <td>0.0</td>\n",
       "      <td>0.0</td>\n",
       "      <td>...</td>\n",
       "      <td>0.0</td>\n",
       "      <td>1.0</td>\n",
       "      <td>0.0</td>\n",
       "      <td>0.0</td>\n",
       "      <td>1.0</td>\n",
       "      <td>0.0</td>\n",
       "      <td>0.0</td>\n",
       "      <td>0.0</td>\n",
       "      <td>0.0</td>\n",
       "      <td>1.0</td>\n",
       "    </tr>\n",
       "    <tr>\n",
       "      <th>4</th>\n",
       "      <td>0.0</td>\n",
       "      <td>0.0</td>\n",
       "      <td>1.0</td>\n",
       "      <td>0.0</td>\n",
       "      <td>0.0</td>\n",
       "      <td>0.0</td>\n",
       "      <td>0.0</td>\n",
       "      <td>0.0</td>\n",
       "      <td>0.0</td>\n",
       "      <td>0.0</td>\n",
       "      <td>...</td>\n",
       "      <td>0.0</td>\n",
       "      <td>1.0</td>\n",
       "      <td>0.0</td>\n",
       "      <td>0.0</td>\n",
       "      <td>1.0</td>\n",
       "      <td>0.0</td>\n",
       "      <td>0.0</td>\n",
       "      <td>0.0</td>\n",
       "      <td>0.0</td>\n",
       "      <td>1.0</td>\n",
       "    </tr>\n",
       "  </tbody>\n",
       "</table>\n",
       "<p>5 rows × 235 columns</p>\n",
       "</div>"
      ],
      "text/plain": [
       "   neighbourhood_group_Bronx  neighbourhood_group_Brooklyn  \\\n",
       "0                        0.0                           1.0   \n",
       "1                        0.0                           0.0   \n",
       "2                        0.0                           0.0   \n",
       "3                        0.0                           1.0   \n",
       "4                        0.0                           0.0   \n",
       "\n",
       "   neighbourhood_group_Manhattan  neighbourhood_group_Queens  \\\n",
       "0                            0.0                         0.0   \n",
       "1                            1.0                         0.0   \n",
       "2                            1.0                         0.0   \n",
       "3                            0.0                         0.0   \n",
       "4                            1.0                         0.0   \n",
       "\n",
       "   neighbourhood_group_Staten Island  neighbourhood_Allerton  \\\n",
       "0                                0.0                     0.0   \n",
       "1                                0.0                     0.0   \n",
       "2                                0.0                     0.0   \n",
       "3                                0.0                     0.0   \n",
       "4                                0.0                     0.0   \n",
       "\n",
       "   neighbourhood_Arden Heights  neighbourhood_Arrochar  neighbourhood_Arverne  \\\n",
       "0                          0.0                     0.0                    0.0   \n",
       "1                          0.0                     0.0                    0.0   \n",
       "2                          0.0                     0.0                    0.0   \n",
       "3                          0.0                     0.0                    0.0   \n",
       "4                          0.0                     0.0                    0.0   \n",
       "\n",
       "   neighbourhood_Astoria  ...  neighbourhood_Woodside  \\\n",
       "0                    0.0  ...                     0.0   \n",
       "1                    0.0  ...                     0.0   \n",
       "2                    0.0  ...                     0.0   \n",
       "3                    0.0  ...                     0.0   \n",
       "4                    0.0  ...                     0.0   \n",
       "\n",
       "   room_type_Entire home/apt  room_type_Private room  room_type_Shared room  \\\n",
       "0                        0.0                     1.0                    0.0   \n",
       "1                        1.0                     0.0                    0.0   \n",
       "2                        0.0                     1.0                    0.0   \n",
       "3                        1.0                     0.0                    0.0   \n",
       "4                        1.0                     0.0                    0.0   \n",
       "\n",
       "   name_negative  name_positive  race_api  race_black  race_hispanic  \\\n",
       "0            1.0            0.0       0.0         0.0            0.0   \n",
       "1            1.0            0.0       0.0         0.0            0.0   \n",
       "2            1.0            0.0       0.0         0.0            0.0   \n",
       "3            1.0            0.0       0.0         0.0            0.0   \n",
       "4            1.0            0.0       0.0         0.0            0.0   \n",
       "\n",
       "   race_white  \n",
       "0         1.0  \n",
       "1         1.0  \n",
       "2         1.0  \n",
       "3         1.0  \n",
       "4         1.0  \n",
       "\n",
       "[5 rows x 235 columns]"
      ]
     },
     "execution_count": 22,
     "metadata": {},
     "output_type": "execute_result"
    }
   ],
   "source": [
    "columns=['neighbourhood_group','neighbourhood','room_type','name','race']\n",
    "X_train=df_finalresult[columns].copy()\n",
    "enc=OneHotEncoder(sparse=False, handle_unknown='ignore')\n",
    "enc.fit(X_train)\n",
    "columns=enc.get_feature_names(columns)\n",
    "X_train = enc.transform(X_train)\n",
    "df_1=pd.DataFrame(X_train, columns=columns)\n",
    "#df_1.to_csv('OneHotEncoder.csv',index=False)\n",
    "df_1.head()"
   ]
  },
  {
   "cell_type": "markdown",
   "metadata": {},
   "source": [
    "continuous features: latitude longi price min number_reviews reviews_month calculated avail time"
   ]
  },
  {
   "cell_type": "markdown",
   "metadata": {},
   "source": [
    "<font size=\"5\">4.2 MinMaxScaler </font> "
   ]
  },
  {
   "cell_type": "markdown",
   "metadata": {},
   "source": [
    "I decide to use MinMaxScaler for the feature availability_365, because it is clearly a bounded feature as the values can only be between 0 and 365. And I decide to use MinMaxScaler for the feature latitude and longitude, because the dataset is about airbnb in New York, so the longitude and latitude are bounded within New York."
   ]
  },
  {
   "cell_type": "code",
   "execution_count": 23,
   "metadata": {},
   "outputs": [
    {
     "data": {
      "text/html": [
       "<div>\n",
       "<style scoped>\n",
       "    .dataframe tbody tr th:only-of-type {\n",
       "        vertical-align: middle;\n",
       "    }\n",
       "\n",
       "    .dataframe tbody tr th {\n",
       "        vertical-align: top;\n",
       "    }\n",
       "\n",
       "    .dataframe thead th {\n",
       "        text-align: right;\n",
       "    }\n",
       "</style>\n",
       "<table border=\"1\" class=\"dataframe\">\n",
       "  <thead>\n",
       "    <tr style=\"text-align: right;\">\n",
       "      <th></th>\n",
       "      <th>availability_365</th>\n",
       "      <th>latitude</th>\n",
       "      <th>longitude</th>\n",
       "    </tr>\n",
       "  </thead>\n",
       "  <tbody>\n",
       "    <tr>\n",
       "      <th>0</th>\n",
       "      <td>1.000000</td>\n",
       "      <td>0.357393</td>\n",
       "      <td>0.511921</td>\n",
       "    </tr>\n",
       "    <tr>\n",
       "      <th>1</th>\n",
       "      <td>0.972603</td>\n",
       "      <td>0.614199</td>\n",
       "      <td>0.490469</td>\n",
       "    </tr>\n",
       "    <tr>\n",
       "      <th>2</th>\n",
       "      <td>1.000000</td>\n",
       "      <td>0.748252</td>\n",
       "      <td>0.569257</td>\n",
       "    </tr>\n",
       "    <tr>\n",
       "      <th>3</th>\n",
       "      <td>0.531507</td>\n",
       "      <td>0.448496</td>\n",
       "      <td>0.535649</td>\n",
       "    </tr>\n",
       "    <tr>\n",
       "      <th>4</th>\n",
       "      <td>0.000000</td>\n",
       "      <td>0.722820</td>\n",
       "      <td>0.565324</td>\n",
       "    </tr>\n",
       "  </tbody>\n",
       "</table>\n",
       "</div>"
      ],
      "text/plain": [
       "   availability_365  latitude  longitude\n",
       "0          1.000000  0.357393   0.511921\n",
       "1          0.972603  0.614199   0.490469\n",
       "2          1.000000  0.748252   0.569257\n",
       "3          0.531507  0.448496   0.535649\n",
       "4          0.000000  0.722820   0.565324"
      ]
     },
     "execution_count": 23,
     "metadata": {},
     "output_type": "execute_result"
    }
   ],
   "source": [
    "columns=['availability_365','latitude','longitude']\n",
    "X_train = df_finalresult[columns].copy()\n",
    "scaler = MinMaxScaler()\n",
    "df_2=pd.DataFrame(scaler.fit_transform(X_train), columns=columns)\n",
    "#df_3.to_csv('MinMaxScaler.csv',index=False)\n",
    "df_2.head()"
   ]
  },
  {
   "cell_type": "markdown",
   "metadata": {},
   "source": [
    "<font size=\"5\">4.3 StandardScaler </font> "
   ]
  },
  {
   "cell_type": "markdown",
   "metadata": {},
   "source": [
    "And for minimum_nights, number_of_reviews, reviews_per_month, calculated_host_listings_count and time, I will use StandardScaler."
   ]
  },
  {
   "cell_type": "code",
   "execution_count": 24,
   "metadata": {},
   "outputs": [
    {
     "data": {
      "text/html": [
       "<div>\n",
       "<style scoped>\n",
       "    .dataframe tbody tr th:only-of-type {\n",
       "        vertical-align: middle;\n",
       "    }\n",
       "\n",
       "    .dataframe tbody tr th {\n",
       "        vertical-align: top;\n",
       "    }\n",
       "\n",
       "    .dataframe thead th {\n",
       "        text-align: right;\n",
       "    }\n",
       "</style>\n",
       "<table border=\"1\" class=\"dataframe\">\n",
       "  <thead>\n",
       "    <tr style=\"text-align: right;\">\n",
       "      <th></th>\n",
       "      <th>minimum_nights</th>\n",
       "      <th>number_of_reviews</th>\n",
       "      <th>reviews_per_month</th>\n",
       "      <th>calculated_host_listings_count</th>\n",
       "      <th>time</th>\n",
       "    </tr>\n",
       "  </thead>\n",
       "  <tbody>\n",
       "    <tr>\n",
       "      <th>0</th>\n",
       "      <td>-0.293996</td>\n",
       "      <td>-0.320414</td>\n",
       "      <td>-0.551511</td>\n",
       "      <td>-0.034716</td>\n",
       "      <td>0.109459</td>\n",
       "    </tr>\n",
       "    <tr>\n",
       "      <th>1</th>\n",
       "      <td>-0.293996</td>\n",
       "      <td>0.487665</td>\n",
       "      <td>-0.445079</td>\n",
       "      <td>-0.156104</td>\n",
       "      <td>-0.445466</td>\n",
       "    </tr>\n",
       "    <tr>\n",
       "      <th>2</th>\n",
       "      <td>-0.196484</td>\n",
       "      <td>-0.522433</td>\n",
       "      <td>-0.682986</td>\n",
       "      <td>-0.186451</td>\n",
       "      <td>-0.572528</td>\n",
       "    </tr>\n",
       "    <tr>\n",
       "      <th>3</th>\n",
       "      <td>-0.293996</td>\n",
       "      <td>5.538156</td>\n",
       "      <td>2.221978</td>\n",
       "      <td>-0.186451</td>\n",
       "      <td>-0.562155</td>\n",
       "    </tr>\n",
       "    <tr>\n",
       "      <th>4</th>\n",
       "      <td>0.144807</td>\n",
       "      <td>-0.320414</td>\n",
       "      <td>-0.620379</td>\n",
       "      <td>-0.186451</td>\n",
       "      <td>0.029072</td>\n",
       "    </tr>\n",
       "  </tbody>\n",
       "</table>\n",
       "</div>"
      ],
      "text/plain": [
       "   minimum_nights  number_of_reviews  reviews_per_month  \\\n",
       "0       -0.293996          -0.320414          -0.551511   \n",
       "1       -0.293996           0.487665          -0.445079   \n",
       "2       -0.196484          -0.522433          -0.682986   \n",
       "3       -0.293996           5.538156           2.221978   \n",
       "4        0.144807          -0.320414          -0.620379   \n",
       "\n",
       "   calculated_host_listings_count      time  \n",
       "0                       -0.034716  0.109459  \n",
       "1                       -0.156104 -0.445466  \n",
       "2                       -0.186451 -0.572528  \n",
       "3                       -0.186451 -0.562155  \n",
       "4                       -0.186451  0.029072  "
      ]
     },
     "execution_count": 24,
     "metadata": {},
     "output_type": "execute_result"
    }
   ],
   "source": [
    "columns=['minimum_nights','number_of_reviews','reviews_per_month','calculated_host_listings_count','time']\n",
    "X_train = df_finalresult[columns].copy()\n",
    "scaler = StandardScaler()\n",
    "df_3=pd.DataFrame(scaler.fit_transform(X_train), columns=columns)\n",
    "#df_2.to_csv('StandardScaler.csv',index=False)\n",
    "df_3.head()"
   ]
  },
  {
   "cell_type": "markdown",
   "metadata": {},
   "source": [
    "<font size=\"5\">4.4 Target Variable </font> "
   ]
  },
  {
   "cell_type": "markdown",
   "metadata": {},
   "source": [
    "For the target variable price, I decide to use it directly without any preprocessing, since it is continuous variable."
   ]
  },
  {
   "cell_type": "markdown",
   "metadata": {},
   "source": [
    "<font size=\"5\">4.5 Raw Dataset </font> "
   ]
  },
  {
   "cell_type": "code",
   "execution_count": 25,
   "metadata": {},
   "outputs": [
    {
     "data": {
      "text/html": [
       "<div>\n",
       "<style scoped>\n",
       "    .dataframe tbody tr th:only-of-type {\n",
       "        vertical-align: middle;\n",
       "    }\n",
       "\n",
       "    .dataframe tbody tr th {\n",
       "        vertical-align: top;\n",
       "    }\n",
       "\n",
       "    .dataframe thead th {\n",
       "        text-align: right;\n",
       "    }\n",
       "</style>\n",
       "<table border=\"1\" class=\"dataframe\">\n",
       "  <thead>\n",
       "    <tr style=\"text-align: right;\">\n",
       "      <th></th>\n",
       "      <th>neighbourhood_group_Bronx</th>\n",
       "      <th>neighbourhood_group_Brooklyn</th>\n",
       "      <th>neighbourhood_group_Manhattan</th>\n",
       "      <th>neighbourhood_group_Queens</th>\n",
       "      <th>neighbourhood_group_Staten Island</th>\n",
       "      <th>neighbourhood_Allerton</th>\n",
       "      <th>neighbourhood_Arden Heights</th>\n",
       "      <th>neighbourhood_Arrochar</th>\n",
       "      <th>neighbourhood_Arverne</th>\n",
       "      <th>neighbourhood_Astoria</th>\n",
       "      <th>...</th>\n",
       "      <th>race_white</th>\n",
       "      <th>availability_365</th>\n",
       "      <th>latitude</th>\n",
       "      <th>longitude</th>\n",
       "      <th>minimum_nights</th>\n",
       "      <th>number_of_reviews</th>\n",
       "      <th>reviews_per_month</th>\n",
       "      <th>calculated_host_listings_count</th>\n",
       "      <th>time</th>\n",
       "      <th>price</th>\n",
       "    </tr>\n",
       "  </thead>\n",
       "  <tbody>\n",
       "    <tr>\n",
       "      <th>0</th>\n",
       "      <td>0.0</td>\n",
       "      <td>1.0</td>\n",
       "      <td>0.0</td>\n",
       "      <td>0.0</td>\n",
       "      <td>0.0</td>\n",
       "      <td>0.0</td>\n",
       "      <td>0.0</td>\n",
       "      <td>0.0</td>\n",
       "      <td>0.0</td>\n",
       "      <td>0.0</td>\n",
       "      <td>...</td>\n",
       "      <td>1.0</td>\n",
       "      <td>1.000000</td>\n",
       "      <td>0.357393</td>\n",
       "      <td>0.511921</td>\n",
       "      <td>-0.293996</td>\n",
       "      <td>-0.320414</td>\n",
       "      <td>-0.551511</td>\n",
       "      <td>-0.034716</td>\n",
       "      <td>0.109459</td>\n",
       "      <td>149</td>\n",
       "    </tr>\n",
       "    <tr>\n",
       "      <th>1</th>\n",
       "      <td>0.0</td>\n",
       "      <td>0.0</td>\n",
       "      <td>1.0</td>\n",
       "      <td>0.0</td>\n",
       "      <td>0.0</td>\n",
       "      <td>0.0</td>\n",
       "      <td>0.0</td>\n",
       "      <td>0.0</td>\n",
       "      <td>0.0</td>\n",
       "      <td>0.0</td>\n",
       "      <td>...</td>\n",
       "      <td>1.0</td>\n",
       "      <td>0.972603</td>\n",
       "      <td>0.614199</td>\n",
       "      <td>0.490469</td>\n",
       "      <td>-0.293996</td>\n",
       "      <td>0.487665</td>\n",
       "      <td>-0.445079</td>\n",
       "      <td>-0.156104</td>\n",
       "      <td>-0.445466</td>\n",
       "      <td>225</td>\n",
       "    </tr>\n",
       "    <tr>\n",
       "      <th>2</th>\n",
       "      <td>0.0</td>\n",
       "      <td>0.0</td>\n",
       "      <td>1.0</td>\n",
       "      <td>0.0</td>\n",
       "      <td>0.0</td>\n",
       "      <td>0.0</td>\n",
       "      <td>0.0</td>\n",
       "      <td>0.0</td>\n",
       "      <td>0.0</td>\n",
       "      <td>0.0</td>\n",
       "      <td>...</td>\n",
       "      <td>1.0</td>\n",
       "      <td>1.000000</td>\n",
       "      <td>0.748252</td>\n",
       "      <td>0.569257</td>\n",
       "      <td>-0.196484</td>\n",
       "      <td>-0.522433</td>\n",
       "      <td>-0.682986</td>\n",
       "      <td>-0.186451</td>\n",
       "      <td>-0.572528</td>\n",
       "      <td>150</td>\n",
       "    </tr>\n",
       "    <tr>\n",
       "      <th>3</th>\n",
       "      <td>0.0</td>\n",
       "      <td>1.0</td>\n",
       "      <td>0.0</td>\n",
       "      <td>0.0</td>\n",
       "      <td>0.0</td>\n",
       "      <td>0.0</td>\n",
       "      <td>0.0</td>\n",
       "      <td>0.0</td>\n",
       "      <td>0.0</td>\n",
       "      <td>0.0</td>\n",
       "      <td>...</td>\n",
       "      <td>1.0</td>\n",
       "      <td>0.531507</td>\n",
       "      <td>0.448496</td>\n",
       "      <td>0.535649</td>\n",
       "      <td>-0.293996</td>\n",
       "      <td>5.538156</td>\n",
       "      <td>2.221978</td>\n",
       "      <td>-0.186451</td>\n",
       "      <td>-0.562155</td>\n",
       "      <td>89</td>\n",
       "    </tr>\n",
       "    <tr>\n",
       "      <th>4</th>\n",
       "      <td>0.0</td>\n",
       "      <td>0.0</td>\n",
       "      <td>1.0</td>\n",
       "      <td>0.0</td>\n",
       "      <td>0.0</td>\n",
       "      <td>0.0</td>\n",
       "      <td>0.0</td>\n",
       "      <td>0.0</td>\n",
       "      <td>0.0</td>\n",
       "      <td>0.0</td>\n",
       "      <td>...</td>\n",
       "      <td>1.0</td>\n",
       "      <td>0.000000</td>\n",
       "      <td>0.722820</td>\n",
       "      <td>0.565324</td>\n",
       "      <td>0.144807</td>\n",
       "      <td>-0.320414</td>\n",
       "      <td>-0.620379</td>\n",
       "      <td>-0.186451</td>\n",
       "      <td>0.029072</td>\n",
       "      <td>80</td>\n",
       "    </tr>\n",
       "  </tbody>\n",
       "</table>\n",
       "<p>5 rows × 244 columns</p>\n",
       "</div>"
      ],
      "text/plain": [
       "   neighbourhood_group_Bronx  neighbourhood_group_Brooklyn  \\\n",
       "0                        0.0                           1.0   \n",
       "1                        0.0                           0.0   \n",
       "2                        0.0                           0.0   \n",
       "3                        0.0                           1.0   \n",
       "4                        0.0                           0.0   \n",
       "\n",
       "   neighbourhood_group_Manhattan  neighbourhood_group_Queens  \\\n",
       "0                            0.0                         0.0   \n",
       "1                            1.0                         0.0   \n",
       "2                            1.0                         0.0   \n",
       "3                            0.0                         0.0   \n",
       "4                            1.0                         0.0   \n",
       "\n",
       "   neighbourhood_group_Staten Island  neighbourhood_Allerton  \\\n",
       "0                                0.0                     0.0   \n",
       "1                                0.0                     0.0   \n",
       "2                                0.0                     0.0   \n",
       "3                                0.0                     0.0   \n",
       "4                                0.0                     0.0   \n",
       "\n",
       "   neighbourhood_Arden Heights  neighbourhood_Arrochar  neighbourhood_Arverne  \\\n",
       "0                          0.0                     0.0                    0.0   \n",
       "1                          0.0                     0.0                    0.0   \n",
       "2                          0.0                     0.0                    0.0   \n",
       "3                          0.0                     0.0                    0.0   \n",
       "4                          0.0                     0.0                    0.0   \n",
       "\n",
       "   neighbourhood_Astoria  ...  race_white  availability_365  latitude  \\\n",
       "0                    0.0  ...         1.0          1.000000  0.357393   \n",
       "1                    0.0  ...         1.0          0.972603  0.614199   \n",
       "2                    0.0  ...         1.0          1.000000  0.748252   \n",
       "3                    0.0  ...         1.0          0.531507  0.448496   \n",
       "4                    0.0  ...         1.0          0.000000  0.722820   \n",
       "\n",
       "   longitude  minimum_nights  number_of_reviews  reviews_per_month  \\\n",
       "0   0.511921       -0.293996          -0.320414          -0.551511   \n",
       "1   0.490469       -0.293996           0.487665          -0.445079   \n",
       "2   0.569257       -0.196484          -0.522433          -0.682986   \n",
       "3   0.535649       -0.293996           5.538156           2.221978   \n",
       "4   0.565324        0.144807          -0.320414          -0.620379   \n",
       "\n",
       "   calculated_host_listings_count      time  price  \n",
       "0                       -0.034716  0.109459    149  \n",
       "1                       -0.156104 -0.445466    225  \n",
       "2                       -0.186451 -0.572528    150  \n",
       "3                       -0.186451 -0.562155     89  \n",
       "4                       -0.186451  0.029072     80  \n",
       "\n",
       "[5 rows x 244 columns]"
      ]
     },
     "execution_count": 25,
     "metadata": {},
     "output_type": "execute_result"
    }
   ],
   "source": [
    "df_assemble = pd.concat([df_1, df_2, df_3, df_finalresult['price']], axis=1)\n",
    "df_assemble.to_csv(\"data/preprocessed_data.csv\", index = False)\n",
    "df_assemble.head()"
   ]
  },
  {
   "cell_type": "code",
   "execution_count": 26,
   "metadata": {},
   "outputs": [
    {
     "name": "stdout",
     "output_type": "stream",
     "text": [
      "number of rows: 48895\n"
     ]
    }
   ],
   "source": [
    "print('number of rows:', df_assemble.shape[0])"
   ]
  },
  {
   "cell_type": "code",
   "execution_count": 27,
   "metadata": {},
   "outputs": [
    {
     "name": "stdout",
     "output_type": "stream",
     "text": [
      "number of features after preprocessing: 244\n"
     ]
    }
   ],
   "source": [
    "print('number of features after preprocessing:', df_assemble.shape[1])"
   ]
  },
  {
   "cell_type": "code",
   "execution_count": null,
   "metadata": {},
   "outputs": [],
   "source": []
  },
  {
   "cell_type": "code",
   "execution_count": null,
   "metadata": {},
   "outputs": [],
   "source": []
  },
  {
   "cell_type": "code",
   "execution_count": 134,
   "metadata": {},
   "outputs": [],
   "source": []
  },
  {
   "cell_type": "code",
   "execution_count": null,
   "metadata": {},
   "outputs": [],
   "source": []
  },
  {
   "cell_type": "code",
   "execution_count": null,
   "metadata": {},
   "outputs": [],
   "source": []
  }
 ],
 "metadata": {
  "kernelspec": {
   "display_name": "Python 3",
   "language": "python",
   "name": "python3"
  },
  "language_info": {
   "codemirror_mode": {
    "name": "ipython",
    "version": 3
   },
   "file_extension": ".py",
   "mimetype": "text/x-python",
   "name": "python",
   "nbconvert_exporter": "python",
   "pygments_lexer": "ipython3",
   "version": "3.7.3"
  }
 },
 "nbformat": 4,
 "nbformat_minor": 4
}
