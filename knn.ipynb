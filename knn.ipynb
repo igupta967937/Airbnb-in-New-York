{
 "cells": [
  {
   "cell_type": "code",
   "execution_count": 6,
   "metadata": {},
   "outputs": [],
   "source": [
    "# random forest\n",
    "import pandas as pd\n",
    "import numpy as np\n",
    "import matplotlib.pyplot as plt\n",
    "import seaborn as sns\n",
    "from scipy.stats import norm\n",
    "from scipy import stats\n",
    "import warnings\n",
    "from sklearn.model_selection import train_test_split\n",
    "warnings.filterwarnings('ignore')\n",
    "from sklearn.metrics import r2_score\n",
    "from sklearn.neighbors import KNeighborsRegressor"
   ]
  },
  {
   "cell_type": "code",
   "execution_count": 7,
   "metadata": {},
   "outputs": [],
   "source": [
    "# x and y\n",
    "df = pd.read_csv('preprocessed_data.csv')\n",
    "label = 'price'\n",
    "y = df[label]\n",
    "columns = ['price']\n",
    "df.drop(columns, inplace=True, axis=1)\n",
    "feature_namelist = []\n",
    "for item in df.columns:\n",
    "    feature_namelist.append(item)\n",
    "#print(len(feature_namelist))\n",
    "feature_names = feature_namelist\n",
    "label = 'price'\n",
    "x = df[feature_names]"
   ]
  },
  {
   "cell_type": "code",
   "execution_count": 8,
   "metadata": {},
   "outputs": [],
   "source": [
    "# train and test split\n",
    "#train_x, test_x, train_y, test_y= train_test_split(x,y,test_size=0.2, random_state=0)"
   ]
  },
  {
   "cell_type": "code",
   "execution_count": null,
   "metadata": {},
   "outputs": [],
   "source": [
    "# parameters tuned max_depth and max_features\n",
    "r2_score_list = []\n",
    "test_score_list = []\n",
    "for j in [0,1,2,3]:\n",
    "    for k in [0.2, 0.3]:\n",
    "        train_x, test_x, train_y, test_y= train_test_split(x,y,test_size=k, random_state=j)\n",
    "        for i in [20, 40, 60]:\n",
    "            reg = KNeighborsRegressor(n_neighbors=i)\n",
    "            reg.fit(train_x, train_y)\n",
    "            test_score_result = reg.score(test_x, test_y)\n",
    "            test_score_list.append(test_score_result)\n",
    "            #print('train_score:',reg.score(train_x, train_y))\n",
    "            #print('test_score:',reg.score(test_x, test_y))\n",
    "            y_pred = reg.predict(test_x)#.reshape((9779,1))\n",
    "            r2_score_result = r2_score(test_y, y_pred)\n",
    "            r2_score_list.append(r2_score_result)\n",
    "    \n",
    "print('r2_score:', max(r2_score_list))\n",
    "print('std of test_score:', np.std(test_score_list))\n",
    "print('mean of test_score:', np.mean(test_score_list))"
   ]
  },
  {
   "cell_type": "code",
   "execution_count": null,
   "metadata": {},
   "outputs": [],
   "source": [
    "#print('r2_score for knn:', max(r2_score_list))"
   ]
  },
  {
   "cell_type": "code",
   "execution_count": null,
   "metadata": {},
   "outputs": [],
   "source": []
  }
 ],
 "metadata": {
  "kernelspec": {
   "display_name": "Python 3",
   "language": "python",
   "name": "python3"
  },
  "language_info": {
   "codemirror_mode": {
    "name": "ipython",
    "version": 3
   },
   "file_extension": ".py",
   "mimetype": "text/x-python",
   "name": "python",
   "nbconvert_exporter": "python",
   "pygments_lexer": "ipython3",
   "version": "3.7.3"
  }
 },
 "nbformat": 4,
 "nbformat_minor": 4
}
