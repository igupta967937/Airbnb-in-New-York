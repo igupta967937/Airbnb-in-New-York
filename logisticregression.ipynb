{
 "cells": [
  {
   "cell_type": "code",
   "execution_count": 1,
   "metadata": {},
   "outputs": [],
   "source": [
    "# logistic regression\n",
    "import pandas as pd\n",
    "import numpy as np\n",
    "import matplotlib.pyplot as plt\n",
    "import seaborn as sns\n",
    "from scipy.stats import norm\n",
    "from scipy import stats\n",
    "from sklearn.model_selection import train_test_split\n",
    "from sklearn.linear_model import Lasso\n",
    "from sklearn.linear_model import Ridge\n",
    "from sklearn.linear_model import ElasticNet\n",
    "from sklearn.metrics import r2_score\n",
    "import warnings\n",
    "warnings.filterwarnings('ignore')"
   ]
  },
  {
   "cell_type": "code",
   "execution_count": 2,
   "metadata": {},
   "outputs": [],
   "source": [
    "# x and y\n",
    "df = pd.read_csv('preprocessed_data.csv')\n",
    "label = 'price'\n",
    "y = df[label]\n",
    "columns = ['price']\n",
    "df.drop(columns, inplace=True, axis=1)\n",
    "feature_namelist = []\n",
    "for item in df.columns:\n",
    "    feature_namelist.append(item)\n",
    "#print(len(feature_namelist))\n",
    "feature_names = feature_namelist\n",
    "label = 'price'\n",
    "x = df[feature_names]"
   ]
  },
  {
   "cell_type": "code",
   "execution_count": null,
   "metadata": {},
   "outputs": [],
   "source": []
  },
  {
   "cell_type": "code",
   "execution_count": 47,
   "metadata": {},
   "outputs": [],
   "source": [
    "# train and test split\n",
    "# train_x, test_x, train_y, test_y= train_test_split(x,y,test_size=0.2, random_state=0)"
   ]
  },
  {
   "cell_type": "code",
   "execution_count": 28,
   "metadata": {},
   "outputs": [],
   "source": [
    "# # metric\n",
    "# from sklearn.model_selection import cross_val_score\n",
    "# def rmse_cv(model):\n",
    "#     rmse = np.sqrt(-cross_val_score(model,x,y,scoring=\"neg_mean_squared_error\", cv=4))\n",
    "#     return(rmse)"
   ]
  },
  {
   "cell_type": "code",
   "execution_count": 29,
   "metadata": {},
   "outputs": [],
   "source": [
    "# lasso"
   ]
  },
  {
   "cell_type": "code",
   "execution_count": null,
   "metadata": {},
   "outputs": [],
   "source": [
    "r2_score_list = []\n",
    "test_score_list = []\n",
    "for j in [0,1,2,3]:\n",
    "    for k in [0.2, 0.3]:\n",
    "        train_x, test_x, train_y, test_y= train_test_split(x,y,test_size=k, random_state=j)\n",
    "        for i in [0.00001, 0.005, 0.5, 1]:\n",
    "            reg = Lasso(alpha = i)\n",
    "            reg.fit(train_x, train_y)\n",
    "            test_score_result = reg.score(test_x, test_y)\n",
    "            test_score_list.append(test_score_result)\n",
    "            #print('train_score:',reg.score(train_x, train_y))\n",
    "            print('test_score:',reg.score(test_x, test_y))\n",
    "            y_pred = reg.predict(test_x)#.reshape((9779,1))\n",
    "            r2_score_result = r2_score(test_y, y_pred)\n",
    "            r2_score_list.append(r2_score_result)\n",
    "            \n",
    "print('r2_score:', max(r2_score_list))\n",
    "print('std of test_score:', np.std(test_score_list))\n",
    "print('mean of test_score:', np.mean(test_score_list))"
   ]
  },
  {
   "cell_type": "code",
   "execution_count": 60,
   "metadata": {},
   "outputs": [],
   "source": [
    "# print('r2_score for lasso regression:', max(r2_score_list))"
   ]
  },
  {
   "cell_type": "code",
   "execution_count": 33,
   "metadata": {},
   "outputs": [],
   "source": [
    "#print('lasso_mse', max(mse_list))"
   ]
  },
  {
   "cell_type": "code",
   "execution_count": null,
   "metadata": {},
   "outputs": [],
   "source": [
    "# ridge"
   ]
  },
  {
   "cell_type": "code",
   "execution_count": 3,
   "metadata": {},
   "outputs": [
    {
     "name": "stdout",
     "output_type": "stream",
     "text": [
      "test_score: 0.12707833000494007\n",
      "r2score: 0.12707833000494007\n",
      "test_score: 0.1270805471244003\n",
      "r2score: 0.1270805471244003\n",
      "test_score: 0.1272535119088436\n",
      "r2score: 0.1272535119088436\n",
      "test_score: 0.1273718424169913\n",
      "r2score: 0.1273718424169913\n",
      "test_score: 0.12709059591884764\n",
      "r2score: 0.12709059591884764\n",
      "test_score: 0.12709227051051364\n",
      "r2score: 0.12709227051051364\n",
      "test_score: 0.12722407173117556\n",
      "r2score: 0.12722407173117556\n",
      "test_score: 0.12731898922181295\n",
      "r2score: 0.12731898922181295\n",
      "test_score: 0.08860782544580725\n",
      "r2score: 0.08860782544580725\n",
      "test_score: 0.08861008160901351\n",
      "r2score: 0.08861008160901351\n",
      "test_score: 0.08879274369784707\n",
      "r2score: 0.08879274369784707\n",
      "test_score: 0.08892551489133893\n",
      "r2score: 0.08892551489133893\n",
      "test_score: 0.0979035680032605\n",
      "r2score: 0.0979035680032605\n",
      "test_score: 0.09790687037868429\n",
      "r2score: 0.09790687037868429\n",
      "test_score: 0.09816622924800122\n",
      "r2score: 0.09816622924800122\n",
      "test_score: 0.09834264837583528\n",
      "r2score: 0.09834264837583528\n",
      "test_score: 0.12809951477983195\n",
      "r2score: 0.12809951477983195\n",
      "test_score: 0.12810057201369507\n",
      "r2score: 0.12810057201369507\n",
      "test_score: 0.12816847088091932\n",
      "r2score: 0.12816847088091932\n",
      "test_score: 0.1281977249786177\n",
      "r2score: 0.1281977249786177\n",
      "test_score: 0.11031858587263632\n",
      "r2score: 0.11031858587263632\n",
      "test_score: 0.11032071310355807\n",
      "r2score: 0.11032071310355807\n",
      "test_score: 0.1104705038337378\n",
      "r2score: 0.1104705038337378\n",
      "test_score: 0.11055666435580402\n",
      "r2score: 0.11055666435580402\n",
      "test_score: 0.09796441991572336\n",
      "r2score: 0.09796441991572336\n",
      "test_score: 0.09796714346147994\n",
      "r2score: 0.09796714346147994\n",
      "test_score: 0.09819635893590839\n",
      "r2score: 0.09819635893590839\n",
      "test_score: 0.09837389555664522\n",
      "r2score: 0.09837389555664522\n",
      "test_score: 0.10790120349223364\n",
      "r2score: 0.10790120349223364\n",
      "test_score: 0.10790284096963976\n",
      "r2score: 0.10790284096963976\n",
      "test_score: 0.10801681877777536\n",
      "r2score: 0.10801681877777536\n",
      "test_score: 0.1080847353998664\n",
      "r2score: 0.1080847353998664\n",
      "r2_score: 0.1281977249786177\n",
      "std of test_score: 0.014385208250455162\n",
      "mean of test_score: 0.1107314314629808\n"
     ]
    }
   ],
   "source": [
    "r2_score_list = []\n",
    "test_score_list = []\n",
    "for j in [0,1,2,3]:\n",
    "    for k in [0.2, 0.3]:\n",
    "        train_x, test_x, train_y, test_y= train_test_split(x,y,test_size=k, random_state=j)\n",
    "        for i in [0.00001, 0.005, 0.5, 1]:\n",
    "            reg = Ridge(alpha = i)\n",
    "            reg.fit(train_x, train_y)\n",
    "            test_score_result = reg.score(test_x, test_y)\n",
    "            test_score_list.append(test_score_result)\n",
    "            #print('train_score:',reg.score(train_x, train_y))\n",
    "            print('test_score:',reg.score(test_x, test_y))\n",
    "            y_pred = reg.predict(test_x)#.reshape((9779,1))\n",
    "            r2_score_result = r2_score(test_y, y_pred)\n",
    "            r2_score_list.append(r2_score_result)\n",
    "            print('r2score:', r2_score(test_y, y_pred))\n",
    "            \n",
    "print('r2_score:', max(r2_score_list))\n",
    "print('std of test_score:', np.std(test_score_list))\n",
    "print('mean of test_score:', np.mean(test_score_list))"
   ]
  },
  {
   "cell_type": "code",
   "execution_count": 55,
   "metadata": {},
   "outputs": [],
   "source": [
    "# # parameters tuned alpha\n",
    "# r2_score_list = []\n",
    "# mse_list = []\n",
    "# for i in [0.00001, 0.005, 0.5, 1]:\n",
    "#     reg = Ridge(alpha = i)\n",
    "#     reg.fit(train_x, train_y)\n",
    "#     print('train_score:',reg.score(train_x, train_y))\n",
    "#     print('test_score:',reg.score(test_x, test_y))\n",
    "#     test_scoreresult = reg.score(test_x, test_y)\n",
    "#     mse_list.append(test_scoreresult)\n",
    "#     y_pred = reg.predict(test_x).reshape((9779,1))\n",
    "#     r2_score_result = r2_score(test_y, y_pred)\n",
    "#     r2_score_list.append(r2_score_result)\n",
    "\n",
    "# print(r2_score_list)"
   ]
  },
  {
   "cell_type": "code",
   "execution_count": 56,
   "metadata": {},
   "outputs": [],
   "source": [
    "# print('r2_score for ridge regression:', max(r2_score_list))"
   ]
  },
  {
   "cell_type": "code",
   "execution_count": null,
   "metadata": {},
   "outputs": [],
   "source": []
  }
 ],
 "metadata": {
  "kernelspec": {
   "display_name": "Python 3",
   "language": "python",
   "name": "python3"
  },
  "language_info": {
   "codemirror_mode": {
    "name": "ipython",
    "version": 3
   },
   "file_extension": ".py",
   "mimetype": "text/x-python",
   "name": "python",
   "nbconvert_exporter": "python",
   "pygments_lexer": "ipython3",
   "version": "3.7.3"
  }
 },
 "nbformat": 4,
 "nbformat_minor": 4
}
