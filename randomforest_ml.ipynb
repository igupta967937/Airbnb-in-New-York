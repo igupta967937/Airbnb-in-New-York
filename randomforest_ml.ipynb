{
 "cells": [
  {
   "cell_type": "code",
   "execution_count": 18,
   "metadata": {},
   "outputs": [],
   "source": [
    "import pandas as pd \n",
    "import numpy as np \n",
    "from scipy.stats import norm\n",
    "from scipy import stats\n",
    "from sklearn.model_selection import KFold \n",
    "from sklearn.model_selection import train_test_split \n",
    "from sklearn.model_selection import StratifiedKFold \n",
    "from sklearn.metrics import r2_score\n",
    "from sklearn.metrics import mean_squared_error\n",
    "import matplotlib.pylab as plt\n",
    "from sklearn.ensemble import RandomForestRegressor \n",
    "import warnings\n",
    "warnings.filterwarnings('ignore')"
   ]
  },
  {
   "cell_type": "code",
   "execution_count": 19,
   "metadata": {},
   "outputs": [],
   "source": [
    "df_1 = pd.read_csv('preprocessed_data.csv')\n",
    "df=df_1[:1000]\n",
    "df = df.astype(float)\n",
    "df.dropna(inplace=True) \n",
    "df.reset_index(drop=True, inplace=True)\n",
    "label = 'price'\n",
    "y = df[label]\n",
    "X = df.drop(columns=[label])"
   ]
  },
  {
   "cell_type": "code",
   "execution_count": 20,
   "metadata": {},
   "outputs": [],
   "source": [
    "def ML_pipeline_kfold_random_forest(X, y, random_state, n_folds): \n",
    "    \n",
    "    X_other, X_test, y_other, y_test = train_test_split(X, y, test_size=0.2, random_state = random_state) \n",
    "    kf = StratifiedKFold(n_splits=n_folds, shuffle=True, random_state=random_state) \n",
    "    \n",
    "    CV_scores = []\n",
    "    r2score=[]\n",
    "    best_parameters = [] \n",
    "\n",
    "    for train_index, CV_index in kf.split(X_other, y_other): \n",
    "        #X_train, X_CV = X_other[train_index], X_other[CV_index]\n",
    "        #y_train, y_CV = y_other[train_index], y_other[CV_index]\n",
    "        \n",
    "        X_train, X_CV = X_other.iloc[train_index.tolist()], X_other.iloc[CV_index.tolist()] \n",
    "        y_train, y_CV = y_other.iloc[train_index.tolist()], y_other.iloc[CV_index.tolist()] \n",
    "\n",
    "        parameters = [(i, j) for i in [3,5,7,9] for j in [2,4,6,8,10]] \n",
    "        \n",
    "        regs = []\n",
    "        CV_score = []\n",
    "        train_score = []\n",
    "\n",
    "        for i, j in parameters: \n",
    "            reg = RandomForestRegressor(n_estimators=100, random_state=random_state, max_depth=i, min_samples_split=j) \n",
    "            reg.fit(X_train, y_train) \n",
    "        \n",
    "            train_score.append(mean_squared_error(y_train,reg.predict(X_train)))\n",
    "            CV_score.append(mean_squared_error(y_CV,reg.predict(X_CV)))\n",
    "            regs.append(reg)\n",
    "        \n",
    "        best_i = parameters[np.argmin(CV_score)][0] \n",
    "        best_j = parameters[np.argmin(CV_score)][1]\n",
    "        best_parameters.append((best_i, best_j)) \n",
    "        \n",
    "        reg = regs[np.argmin(CV_score)]\n",
    "        CV_scores.append(np.min(CV_score))\n",
    "        \n",
    "        r2score.append(reg.score(X_test,y_test))\n",
    "        \n",
    "        best_para = best_parameters[np.argmax(r2score)] \n",
    "        \n",
    "    return best_para, min(CV_score), max(r2score)"
   ]
  },
  {
   "cell_type": "code",
   "execution_count": 21,
   "metadata": {},
   "outputs": [
    {
     "name": "stdout",
     "output_type": "stream",
     "text": [
      "random state = 23. Best max_depth is 9 and best min_samples_split is 4. CV_score is 8179.618909767298. r2_score is 0.26026539057545783\n",
      "random state = 46. Best max_depth is 7 and best min_samples_split is 8. CV_score is 13023.273922075372. r2_score is 0.052155433112064276\n",
      "random state = 69. Best max_depth is 9 and best min_samples_split is 8. CV_score is 7347.78494181499. r2_score is 0.1367031054730402\n",
      "random state = 92. Best max_depth is 9 and best min_samples_split is 4. CV_score is 7341.011490739838. r2_score is 0.0627000164113759\n",
      "random state = 115. Best max_depth is 9 and best min_samples_split is 2. CV_score is 12103.722923063615. r2_score is 0.34092660864792435\n",
      "random state = 138. Best max_depth is 5 and best min_samples_split is 6. CV_score is 95913.8402200085. r2_score is 0.3719215805377275\n",
      "random state = 161. Best max_depth is 7 and best min_samples_split is 6. CV_score is 90052.8637810923. r2_score is 0.41306390682743443\n",
      "random state = 184. Best max_depth is 3 and best min_samples_split is 4. CV_score is 9581.817338489838. r2_score is 0.1251191572487772\n",
      "random state = 207. Best max_depth is 9 and best min_samples_split is 10. CV_score is 27771.687645856815. r2_score is 0.07482714757613118\n",
      "random state = 230. Best max_depth is 7 and best min_samples_split is 4. CV_score is 7971.002717794123. r2_score is 0.2868334550181114\n",
      "average: 0.212\n",
      "std: 0.131\n",
      "test accuracy score: 0.212 +/- 0.131\n"
     ]
    }
   ],
   "source": [
    "test_scores_list = [] \n",
    "for i in range(10): \n",
    "    random_state = 23*(i+1)\n",
    "    best_para, CV_score, r2_score = ML_pipeline_kfold_random_forest(X, y, random_state, 5) \n",
    "    test_scores_list.append(r2_score) \n",
    "    print('random state = {}. Best max_depth is {} and best min_samples_split is {}. CV_score is {}. r2_score is {}'.format(random_state, best_para[0], best_para[1], CV_score, test_scores_list[-1])) \n",
    "average_list = np.mean(test_scores_list) \n",
    "std_list = np.std(test_scores_list)\n",
    "print('average:', np.around(average_list,3))\n",
    "print('std:', np.around(std_list,3))\n",
    "print('test accuracy score:', np.around(average_list,3), '+/-', np.around(std_list,3))"
   ]
  },
  {
   "cell_type": "code",
   "execution_count": null,
   "metadata": {},
   "outputs": [],
   "source": []
  },
  {
   "cell_type": "code",
   "execution_count": null,
   "metadata": {},
   "outputs": [],
   "source": []
  },
  {
   "cell_type": "code",
   "execution_count": null,
   "metadata": {},
   "outputs": [],
   "source": []
  }
 ],
 "metadata": {
  "kernelspec": {
   "display_name": "Python 3",
   "language": "python",
   "name": "python3"
  },
  "language_info": {
   "codemirror_mode": {
    "name": "ipython",
    "version": 3
   },
   "file_extension": ".py",
   "mimetype": "text/x-python",
   "name": "python",
   "nbconvert_exporter": "python",
   "pygments_lexer": "ipython3",
   "version": "3.7.3"
  }
 },
 "nbformat": 4,
 "nbformat_minor": 4
}
