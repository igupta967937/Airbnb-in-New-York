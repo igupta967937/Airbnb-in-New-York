{
 "cells": [
  {
   "cell_type": "code",
   "execution_count": null,
   "metadata": {},
   "outputs": [],
   "source": []
  },
  {
   "cell_type": "code",
   "execution_count": 7,
   "metadata": {},
   "outputs": [],
   "source": [
    "# logistic regression\n",
    "import pandas as pd\n",
    "import numpy as np\n",
    "import matplotlib.pyplot as plt\n",
    "import seaborn as sns\n",
    "from scipy.stats import norm\n",
    "from scipy import stats\n",
    "from sklearn.model_selection import train_test_split\n",
    "from sklearn.linear_model import Lasso\n",
    "from sklearn.linear_model import Ridge\n",
    "import warnings\n",
    "warnings.filterwarnings('ignore')\n",
    "import pandas as pd\n",
    "import numpy  as np\n",
    "from sklearn.model_selection import train_test_split, StratifiedKFold, GridSearchCV\n",
    "from sklearn.preprocessing import LabelEncoder, OneHotEncoder, StandardScaler, MinMaxScaler, OrdinalEncoder\n",
    "from sklearn.metrics import accuracy_score, make_scorer\n",
    "from sklearn.linear_model import LogisticRegression\n",
    "from sklearn.pipeline import make_pipeline, Pipeline\n",
    "from sklearn.compose import ColumnTransformer\n",
    "from sklearn.ensemble import RandomForestClassifier\n",
    "from sklearn.svm import SVC\n",
    "import warnings\n",
    "warnings.filterwarnings(\"ignore\")"
   ]
  },
  {
   "cell_type": "code",
   "execution_count": 10,
   "metadata": {},
   "outputs": [],
   "source": [
    "num_ftrs = ['minimum_nights', 'number_of_reviews', 'reviews_per_month', 'calculated_host_listings_count', 'time',\n",
    "           'availability_365', 'latitude', 'longitude']\n",
    "cat_ftrs = ['neighbourhood_group', 'room_type', 'name', 'race']"
   ]
  },
  {
   "cell_type": "code",
   "execution_count": 11,
   "metadata": {},
   "outputs": [],
   "source": [
    "# x and y\n",
    "df = pd.read_csv('preprocessed_for_grid.csv')\n",
    "label = 'price'\n",
    "y = df[label]\n",
    "columns = ['price','neighbourhood']\n",
    "df.drop(columns, inplace=True, axis=1)\n",
    "feature_namelist = []\n",
    "for item in df.columns:\n",
    "    feature_namelist.append(item)\n",
    "#print(len(feature_namelist))\n",
    "feature_names = feature_namelist\n",
    "label = 'price'\n",
    "X= df[feature_names]"
   ]
  },
  {
   "cell_type": "code",
   "execution_count": 12,
   "metadata": {},
   "outputs": [],
   "source": [
    "n_folds = 5\n",
    "random_state = 2020\n",
    "def ML_pipeline_kfold_GridSearchCV(X,y,random_state,n_folds,model,param_grid):\n",
    "    \"\"\"Use kfold and GridSearchCV to find the best parameter\"\"\"\n",
    "    \n",
    "    # one-hot encoder\n",
    "    cat_ftrs = ['neighbourhood_group', 'room_type', 'name', 'race']\n",
    "    categorical_transformer = Pipeline(steps=[\n",
    "        ('onehot', OneHotEncoder(sparse=False))])\n",
    "\n",
    "    # standard scaler\n",
    "    num_ftrs = ['minimum_nights', 'number_of_reviews', 'reviews_per_month', 'calculated_host_listings_count', 'time',\n",
    "           'availability_365', 'latitude', 'longitude']\n",
    "    numeric_transformer = Pipeline(steps=[\n",
    "        ('scaler', StandardScaler())])\n",
    "    \n",
    "    # collect the transformers\n",
    "    preprocessor = ColumnTransformer(remainder='passthrough', \n",
    "        transformers=[\n",
    "            ('num', numeric_transformer, num_ftrs),\n",
    "            ('cat', categorical_transformer, cat_ftrs)])\n",
    "    \n",
    "    # Setup pipeline\n",
    "    pipe = Pipeline(steps=[('preprocessor', preprocessor),\n",
    "                          ('classifier', model)])\n",
    "    \n",
    "    # Split train test in a stratified manner\n",
    "    X_other, X_test, y_other, y_test = train_test_split(X, y, test_size=0.2, random_state = random_state)\n",
    "    kf = StratifiedKFold(n_splits=n_folds,shuffle=True,random_state=random_state)\n",
    "\n",
    "    # prepare gridsearch\n",
    "    grid = GridSearchCV(pipe, param_grid=param_grid,scoring = make_scorer(accuracy_score),\n",
    "                        cv=kf, return_train_score = True, n_jobs = -1)\n",
    "    \n",
    "    grid.fit(X_other, y_other)\n",
    "    return grid, grid.score(X_test, y_test)"
   ]
  },
  {
   "cell_type": "code",
   "execution_count": null,
   "metadata": {},
   "outputs": [],
   "source": [
    "model = LogisticRegression(penalty = 'l1', solver = 'saga',max_iter = 10000,multi_class='auto')\n",
    "\n",
    "# tune alpha in l1 for logistic regression\n",
    "param_grid = {'classifier__C': 1/np.logspace(-4,4,20)}\n",
    "\n",
    "best_model, best_score = ML_pipeline_kfold_GridSearchCV(X,y,random_state,n_folds,model,param_grid)\n",
    "c = best_model.best_params_['classifier__C']\n",
    "results = pd.DataFrame(best_model.cv_results_)\n",
    "index = np.argmax(results['mean_test_score'])\n",
    "result_1 = pd.DataFrame(results.iloc[index]['mean_test_score','param_classifier__C', 'mean_train_score'])\n",
    "display(result_1)\n",
    "print('Final test score:', best_score)\n",
    "print('Best C:', c)"
   ]
  },
  {
   "cell_type": "code",
   "execution_count": null,
   "metadata": {},
   "outputs": [],
   "source": []
  }
 ],
 "metadata": {
  "kernelspec": {
   "display_name": "Python 3",
   "language": "python",
   "name": "python3"
  },
  "language_info": {
   "codemirror_mode": {
    "name": "ipython",
    "version": 3
   },
   "file_extension": ".py",
   "mimetype": "text/x-python",
   "name": "python",
   "nbconvert_exporter": "python",
   "pygments_lexer": "ipython3",
   "version": "3.7.3"
  }
 },
 "nbformat": 4,
 "nbformat_minor": 4
}
